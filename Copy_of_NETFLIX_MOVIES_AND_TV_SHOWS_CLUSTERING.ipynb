{
  "nbformat": 4,
  "nbformat_minor": 0,
  "metadata": {
    "colab": {
      "provenance": [],
      "include_colab_link": true
    },
    "kernelspec": {
      "name": "python3",
      "display_name": "Python 3"
    },
    "language_info": {
      "name": "python"
    }
  },
  "cells": [
    {
      "cell_type": "markdown",
      "metadata": {
        "id": "view-in-github",
        "colab_type": "text"
      },
      "source": [
        "<a href=\"https://colab.research.google.com/github/prati25/Project-Netflix-movies-and-TV-shows-clustering/blob/main/Copy_of_NETFLIX_MOVIES_AND_TV_SHOWS_CLUSTERING.ipynb\" target=\"_parent\"><img src=\"https://colab.research.google.com/assets/colab-badge.svg\" alt=\"Open In Colab\"/></a>"
      ]
    },
    {
      "cell_type": "markdown",
      "metadata": {
        "id": "LGcl5Bv9ed6u"
      },
      "source": [
        "# **Problem Statement**"
      ]
    },
    {
      "cell_type": "markdown",
      "metadata": {
        "id": "8M5kyFaVjzXk"
      },
      "source": [
        "This dataset consists of tv shows and movies available on Netflix as of 2019. The dataset is collected from Flixable which is a third-party Netflix search engine.\n",
        "\n",
        "In 2018, they released an interesting report which shows that the number of TV shows on Netflix has nearly tripled since 2010. The streaming service’s number of movies has decreased by more than 2,000 titles since 2010, while its number of TV shows has nearly tripled. It will be interesting to explore what all other insights can be obtained from the same dataset.\n",
        "\n",
        "Integrating this dataset with other external datasets such as IMDB ratings, rotten tomatoes can also provide many interesting findings."
      ]
    },
    {
      "cell_type": "markdown",
      "metadata": {
        "id": "tLx5cJO8hzb1"
      },
      "source": [
        "## <b>In this  project, you are required to do </b>\n",
        "1. Exploratory Data Analysis \n",
        "\n",
        "2. Understanding what type content is available in different countries\n",
        "\n",
        "3. Is Netflix has increasingly focusing on TV rather than movies in recent years.\n",
        "4. Clustering similar content by matching text-based features\n",
        "\n"
      ]
    },
    {
      "cell_type": "markdown",
      "metadata": {
        "id": "AzGDqdC4fZ-b"
      },
      "source": [
        "# **Attribute Information**"
      ]
    },
    {
      "cell_type": "markdown",
      "metadata": {
        "id": "jhfLYargscGV"
      },
      "source": [
        "1. show_id : Unique ID for every Movie / Tv Show\n",
        "\n",
        "2. type : Identifier - A Movie or TV Show\n",
        "\n",
        "3. title : Title of the Movie / Tv Show\n",
        "\n",
        "4. director : Director of the Movie\n",
        "\n",
        "5. cast : Actors involved in the movie / show\n",
        "\n",
        "6. country : Country where the movie / show was produced\n",
        "\n",
        "7. date_added : Date it was added on Netflix\n",
        "\n",
        "8. release_year : Actual Releaseyear of the movie / show\n",
        "\n",
        "9. rating : TV Rating of the movie / show\n",
        "\n",
        "10. duration : Total Duration - in minutes or number of seasons\n",
        "\n",
        "11. listed_in : Genere\n",
        "\n",
        "12. description: The Summary description"
      ]
    },
    {
      "cell_type": "markdown",
      "source": [
        "# **Solution :**\n",
        "\n",
        "## **Importing The Libraries :**"
      ],
      "metadata": {
        "id": "cHMVh3WTMF7J"
      }
    },
    {
      "cell_type": "code",
      "source": [
        "# Importing necessary libraries :\n",
        "\n",
        "import numpy as np\n",
        "import pandas as pd\n",
        "import matplotlib.pyplot as plt\n",
        "import pandas.util.testing as tm\n",
        "%matplotlib inline\n",
        "import seaborn as sns\n",
        "import math\n",
        "import scipy.stats as stat\n",
        "import plotly.express as px\n",
        "import matplotlib.pyplot as plt\n",
        "from matplotlib import cm\n",
        "from math import log10\n",
        "\n",
        "\n",
        "#necessary imports for plotly and map :\n",
        "\n",
        "import os\n",
        "import re\n",
        "import plotly.graph_objs as go\n",
        "import plotly.figure_factory as ff\n",
        "from plotly import tools\n",
        "from plotly.offline import download_plotlyjs, init_notebook_mode, plot, iplot\n",
        "from plotly.subplots import make_subplots\n",
        "import re, string, unicodedata\n",
        "import nltk\n",
        "import inflect\n",
        "from bs4 import BeautifulSoup\n",
        "from nltk import word_tokenize, sent_tokenize\n",
        "from nltk.corpus import stopwords\n",
        "from nltk.stem import LancasterStemmer, WordNetLemmatizer\n",
        "from keras.preprocessing.text import Tokenizer\n",
        "\n",
        "from sklearn import preprocessing\n",
        "import nltk\n",
        "from nltk.corpus import stopwords\n",
        "from nltk.tokenize import word_tokenize\n",
        "from nltk.stem.snowball import SnowballStemmer\n",
        "from sklearn.feature_extraction.text import CountVectorizer,TfidfVectorizer\n",
        "\n",
        "\n",
        "#word cloud imports :\n",
        "\n",
        "from os import path\n",
        "from PIL import Image\n",
        "from wordcloud import WordCloud, STOPWORDS, ImageColorGenerator\n",
        "from sklearn.metrics import silhouette_score\n",
        "from sklearn.cluster import KMeans\n",
        "from sklearn.metrics import silhouette_samples\n",
        "import scipy.cluster.hierarchy as sch"
      ],
      "metadata": {
        "colab": {
          "base_uri": "https://localhost:8080/"
        },
        "id": "CZa4jF7IMMIz",
        "outputId": "8a59980f-ede2-4145-c4b7-9d9703811950"
      },
      "execution_count": 1,
      "outputs": [
        {
          "output_type": "stream",
          "name": "stderr",
          "text": [
            "/usr/local/lib/python3.7/dist-packages/ipykernel_launcher.py:6: FutureWarning: pandas.util.testing is deprecated. Use the functions in the public API at pandas.testing instead.\n",
            "  \n"
          ]
        }
      ]
    },
    {
      "cell_type": "markdown",
      "source": [
        "## **Importing The Dataset :**"
      ],
      "metadata": {
        "id": "FPHKPm-OMxC8"
      }
    },
    {
      "cell_type": "code",
      "source": [
        "# Mount the drive :\n",
        "\n",
        "from google.colab import drive\n",
        "drive.mount('/content/drive')"
      ],
      "metadata": {
        "colab": {
          "base_uri": "https://localhost:8080/"
        },
        "id": "Xs5uxrlUM4i_",
        "outputId": "76fc3018-8abb-45d1-a03a-9f3cd922894f"
      },
      "execution_count": 2,
      "outputs": [
        {
          "output_type": "stream",
          "name": "stdout",
          "text": [
            "Mounted at /content/drive\n"
          ]
        }
      ]
    },
    {
      "cell_type": "code",
      "source": [
        "NETFLIX_pk=pd.read_csv('/content/drive/MyDrive/Capston Project/Netflix Movies and TV shows clustering/ NETFLIX MOVIES AND TV SHOWS CLUSTERING.csv')"
      ],
      "metadata": {
        "id": "62fpJKCnNK4z"
      },
      "execution_count": 7,
      "outputs": []
    },
    {
      "cell_type": "markdown",
      "source": [
        "## **Data -Exploration**"
      ],
      "metadata": {
        "id": "1e-__erON3qg"
      }
    },
    {
      "cell_type": "code",
      "source": [
        "# top 5 rows from Dataset :\n",
        "\n",
        "NETFLIX_pk.head()"
      ],
      "metadata": {
        "colab": {
          "base_uri": "https://localhost:8080/",
          "height": 424
        },
        "id": "RgD44SPKN8Wx",
        "outputId": "1c6f7633-333b-4515-83be-21e38f337f22"
      },
      "execution_count": 8,
      "outputs": [
        {
          "output_type": "execute_result",
          "data": {
            "text/plain": [
              "  show_id     type  title           director  \\\n",
              "0      s1  TV Show     3%                NaN   \n",
              "1      s2    Movie   7:19  Jorge Michel Grau   \n",
              "2      s3    Movie  23:59       Gilbert Chan   \n",
              "3      s4    Movie      9        Shane Acker   \n",
              "4      s5    Movie     21     Robert Luketic   \n",
              "\n",
              "                                                cast        country  \\\n",
              "0  João Miguel, Bianca Comparato, Michel Gomes, R...         Brazil   \n",
              "1  Demián Bichir, Héctor Bonilla, Oscar Serrano, ...         Mexico   \n",
              "2  Tedd Chan, Stella Chung, Henley Hii, Lawrence ...      Singapore   \n",
              "3  Elijah Wood, John C. Reilly, Jennifer Connelly...  United States   \n",
              "4  Jim Sturgess, Kevin Spacey, Kate Bosworth, Aar...  United States   \n",
              "\n",
              "          date_added  release_year rating   duration  \\\n",
              "0    August 14, 2020          2020  TV-MA  4 Seasons   \n",
              "1  December 23, 2016          2016  TV-MA     93 min   \n",
              "2  December 20, 2018          2011      R     78 min   \n",
              "3  November 16, 2017          2009  PG-13     80 min   \n",
              "4    January 1, 2020          2008  PG-13    123 min   \n",
              "\n",
              "                                           listed_in  \\\n",
              "0  International TV Shows, TV Dramas, TV Sci-Fi &...   \n",
              "1                       Dramas, International Movies   \n",
              "2                Horror Movies, International Movies   \n",
              "3  Action & Adventure, Independent Movies, Sci-Fi...   \n",
              "4                                             Dramas   \n",
              "\n",
              "                                         description  \n",
              "0  In a future where the elite inhabit an island ...  \n",
              "1  After a devastating earthquake hits Mexico Cit...  \n",
              "2  When an army recruit is found dead, his fellow...  \n",
              "3  In a postapocalyptic world, rag-doll robots hi...  \n",
              "4  A brilliant group of students become card-coun...  "
            ],
            "text/html": [
              "\n",
              "  <div id=\"df-99609357-d91a-489d-a1e9-ec511b90ea85\">\n",
              "    <div class=\"colab-df-container\">\n",
              "      <div>\n",
              "<style scoped>\n",
              "    .dataframe tbody tr th:only-of-type {\n",
              "        vertical-align: middle;\n",
              "    }\n",
              "\n",
              "    .dataframe tbody tr th {\n",
              "        vertical-align: top;\n",
              "    }\n",
              "\n",
              "    .dataframe thead th {\n",
              "        text-align: right;\n",
              "    }\n",
              "</style>\n",
              "<table border=\"1\" class=\"dataframe\">\n",
              "  <thead>\n",
              "    <tr style=\"text-align: right;\">\n",
              "      <th></th>\n",
              "      <th>show_id</th>\n",
              "      <th>type</th>\n",
              "      <th>title</th>\n",
              "      <th>director</th>\n",
              "      <th>cast</th>\n",
              "      <th>country</th>\n",
              "      <th>date_added</th>\n",
              "      <th>release_year</th>\n",
              "      <th>rating</th>\n",
              "      <th>duration</th>\n",
              "      <th>listed_in</th>\n",
              "      <th>description</th>\n",
              "    </tr>\n",
              "  </thead>\n",
              "  <tbody>\n",
              "    <tr>\n",
              "      <th>0</th>\n",
              "      <td>s1</td>\n",
              "      <td>TV Show</td>\n",
              "      <td>3%</td>\n",
              "      <td>NaN</td>\n",
              "      <td>João Miguel, Bianca Comparato, Michel Gomes, R...</td>\n",
              "      <td>Brazil</td>\n",
              "      <td>August 14, 2020</td>\n",
              "      <td>2020</td>\n",
              "      <td>TV-MA</td>\n",
              "      <td>4 Seasons</td>\n",
              "      <td>International TV Shows, TV Dramas, TV Sci-Fi &amp;...</td>\n",
              "      <td>In a future where the elite inhabit an island ...</td>\n",
              "    </tr>\n",
              "    <tr>\n",
              "      <th>1</th>\n",
              "      <td>s2</td>\n",
              "      <td>Movie</td>\n",
              "      <td>7:19</td>\n",
              "      <td>Jorge Michel Grau</td>\n",
              "      <td>Demián Bichir, Héctor Bonilla, Oscar Serrano, ...</td>\n",
              "      <td>Mexico</td>\n",
              "      <td>December 23, 2016</td>\n",
              "      <td>2016</td>\n",
              "      <td>TV-MA</td>\n",
              "      <td>93 min</td>\n",
              "      <td>Dramas, International Movies</td>\n",
              "      <td>After a devastating earthquake hits Mexico Cit...</td>\n",
              "    </tr>\n",
              "    <tr>\n",
              "      <th>2</th>\n",
              "      <td>s3</td>\n",
              "      <td>Movie</td>\n",
              "      <td>23:59</td>\n",
              "      <td>Gilbert Chan</td>\n",
              "      <td>Tedd Chan, Stella Chung, Henley Hii, Lawrence ...</td>\n",
              "      <td>Singapore</td>\n",
              "      <td>December 20, 2018</td>\n",
              "      <td>2011</td>\n",
              "      <td>R</td>\n",
              "      <td>78 min</td>\n",
              "      <td>Horror Movies, International Movies</td>\n",
              "      <td>When an army recruit is found dead, his fellow...</td>\n",
              "    </tr>\n",
              "    <tr>\n",
              "      <th>3</th>\n",
              "      <td>s4</td>\n",
              "      <td>Movie</td>\n",
              "      <td>9</td>\n",
              "      <td>Shane Acker</td>\n",
              "      <td>Elijah Wood, John C. Reilly, Jennifer Connelly...</td>\n",
              "      <td>United States</td>\n",
              "      <td>November 16, 2017</td>\n",
              "      <td>2009</td>\n",
              "      <td>PG-13</td>\n",
              "      <td>80 min</td>\n",
              "      <td>Action &amp; Adventure, Independent Movies, Sci-Fi...</td>\n",
              "      <td>In a postapocalyptic world, rag-doll robots hi...</td>\n",
              "    </tr>\n",
              "    <tr>\n",
              "      <th>4</th>\n",
              "      <td>s5</td>\n",
              "      <td>Movie</td>\n",
              "      <td>21</td>\n",
              "      <td>Robert Luketic</td>\n",
              "      <td>Jim Sturgess, Kevin Spacey, Kate Bosworth, Aar...</td>\n",
              "      <td>United States</td>\n",
              "      <td>January 1, 2020</td>\n",
              "      <td>2008</td>\n",
              "      <td>PG-13</td>\n",
              "      <td>123 min</td>\n",
              "      <td>Dramas</td>\n",
              "      <td>A brilliant group of students become card-coun...</td>\n",
              "    </tr>\n",
              "  </tbody>\n",
              "</table>\n",
              "</div>\n",
              "      <button class=\"colab-df-convert\" onclick=\"convertToInteractive('df-99609357-d91a-489d-a1e9-ec511b90ea85')\"\n",
              "              title=\"Convert this dataframe to an interactive table.\"\n",
              "              style=\"display:none;\">\n",
              "        \n",
              "  <svg xmlns=\"http://www.w3.org/2000/svg\" height=\"24px\"viewBox=\"0 0 24 24\"\n",
              "       width=\"24px\">\n",
              "    <path d=\"M0 0h24v24H0V0z\" fill=\"none\"/>\n",
              "    <path d=\"M18.56 5.44l.94 2.06.94-2.06 2.06-.94-2.06-.94-.94-2.06-.94 2.06-2.06.94zm-11 1L8.5 8.5l.94-2.06 2.06-.94-2.06-.94L8.5 2.5l-.94 2.06-2.06.94zm10 10l.94 2.06.94-2.06 2.06-.94-2.06-.94-.94-2.06-.94 2.06-2.06.94z\"/><path d=\"M17.41 7.96l-1.37-1.37c-.4-.4-.92-.59-1.43-.59-.52 0-1.04.2-1.43.59L10.3 9.45l-7.72 7.72c-.78.78-.78 2.05 0 2.83L4 21.41c.39.39.9.59 1.41.59.51 0 1.02-.2 1.41-.59l7.78-7.78 2.81-2.81c.8-.78.8-2.07 0-2.86zM5.41 20L4 18.59l7.72-7.72 1.47 1.35L5.41 20z\"/>\n",
              "  </svg>\n",
              "      </button>\n",
              "      \n",
              "  <style>\n",
              "    .colab-df-container {\n",
              "      display:flex;\n",
              "      flex-wrap:wrap;\n",
              "      gap: 12px;\n",
              "    }\n",
              "\n",
              "    .colab-df-convert {\n",
              "      background-color: #E8F0FE;\n",
              "      border: none;\n",
              "      border-radius: 50%;\n",
              "      cursor: pointer;\n",
              "      display: none;\n",
              "      fill: #1967D2;\n",
              "      height: 32px;\n",
              "      padding: 0 0 0 0;\n",
              "      width: 32px;\n",
              "    }\n",
              "\n",
              "    .colab-df-convert:hover {\n",
              "      background-color: #E2EBFA;\n",
              "      box-shadow: 0px 1px 2px rgba(60, 64, 67, 0.3), 0px 1px 3px 1px rgba(60, 64, 67, 0.15);\n",
              "      fill: #174EA6;\n",
              "    }\n",
              "\n",
              "    [theme=dark] .colab-df-convert {\n",
              "      background-color: #3B4455;\n",
              "      fill: #D2E3FC;\n",
              "    }\n",
              "\n",
              "    [theme=dark] .colab-df-convert:hover {\n",
              "      background-color: #434B5C;\n",
              "      box-shadow: 0px 1px 3px 1px rgba(0, 0, 0, 0.15);\n",
              "      filter: drop-shadow(0px 1px 2px rgba(0, 0, 0, 0.3));\n",
              "      fill: #FFFFFF;\n",
              "    }\n",
              "  </style>\n",
              "\n",
              "      <script>\n",
              "        const buttonEl =\n",
              "          document.querySelector('#df-99609357-d91a-489d-a1e9-ec511b90ea85 button.colab-df-convert');\n",
              "        buttonEl.style.display =\n",
              "          google.colab.kernel.accessAllowed ? 'block' : 'none';\n",
              "\n",
              "        async function convertToInteractive(key) {\n",
              "          const element = document.querySelector('#df-99609357-d91a-489d-a1e9-ec511b90ea85');\n",
              "          const dataTable =\n",
              "            await google.colab.kernel.invokeFunction('convertToInteractive',\n",
              "                                                     [key], {});\n",
              "          if (!dataTable) return;\n",
              "\n",
              "          const docLinkHtml = 'Like what you see? Visit the ' +\n",
              "            '<a target=\"_blank\" href=https://colab.research.google.com/notebooks/data_table.ipynb>data table notebook</a>'\n",
              "            + ' to learn more about interactive tables.';\n",
              "          element.innerHTML = '';\n",
              "          dataTable['output_type'] = 'display_data';\n",
              "          await google.colab.output.renderOutput(dataTable, element);\n",
              "          const docLink = document.createElement('div');\n",
              "          docLink.innerHTML = docLinkHtml;\n",
              "          element.appendChild(docLink);\n",
              "        }\n",
              "      </script>\n",
              "    </div>\n",
              "  </div>\n",
              "  "
            ]
          },
          "metadata": {},
          "execution_count": 8
        }
      ]
    },
    {
      "cell_type": "code",
      "source": [
        "# top 5 rows from dataset :\n",
        "\n",
        "NETFLIX_pk.head()"
      ],
      "metadata": {
        "colab": {
          "base_uri": "https://localhost:8080/",
          "height": 424
        },
        "id": "bvQveIYZOLDW",
        "outputId": "df48f72d-610a-4391-8913-fb1b340eacf4"
      },
      "execution_count": 9,
      "outputs": [
        {
          "output_type": "execute_result",
          "data": {
            "text/plain": [
              "  show_id     type  title           director  \\\n",
              "0      s1  TV Show     3%                NaN   \n",
              "1      s2    Movie   7:19  Jorge Michel Grau   \n",
              "2      s3    Movie  23:59       Gilbert Chan   \n",
              "3      s4    Movie      9        Shane Acker   \n",
              "4      s5    Movie     21     Robert Luketic   \n",
              "\n",
              "                                                cast        country  \\\n",
              "0  João Miguel, Bianca Comparato, Michel Gomes, R...         Brazil   \n",
              "1  Demián Bichir, Héctor Bonilla, Oscar Serrano, ...         Mexico   \n",
              "2  Tedd Chan, Stella Chung, Henley Hii, Lawrence ...      Singapore   \n",
              "3  Elijah Wood, John C. Reilly, Jennifer Connelly...  United States   \n",
              "4  Jim Sturgess, Kevin Spacey, Kate Bosworth, Aar...  United States   \n",
              "\n",
              "          date_added  release_year rating   duration  \\\n",
              "0    August 14, 2020          2020  TV-MA  4 Seasons   \n",
              "1  December 23, 2016          2016  TV-MA     93 min   \n",
              "2  December 20, 2018          2011      R     78 min   \n",
              "3  November 16, 2017          2009  PG-13     80 min   \n",
              "4    January 1, 2020          2008  PG-13    123 min   \n",
              "\n",
              "                                           listed_in  \\\n",
              "0  International TV Shows, TV Dramas, TV Sci-Fi &...   \n",
              "1                       Dramas, International Movies   \n",
              "2                Horror Movies, International Movies   \n",
              "3  Action & Adventure, Independent Movies, Sci-Fi...   \n",
              "4                                             Dramas   \n",
              "\n",
              "                                         description  \n",
              "0  In a future where the elite inhabit an island ...  \n",
              "1  After a devastating earthquake hits Mexico Cit...  \n",
              "2  When an army recruit is found dead, his fellow...  \n",
              "3  In a postapocalyptic world, rag-doll robots hi...  \n",
              "4  A brilliant group of students become card-coun...  "
            ],
            "text/html": [
              "\n",
              "  <div id=\"df-f7f1b0ac-8bb5-439b-afb0-5f4abda2e99c\">\n",
              "    <div class=\"colab-df-container\">\n",
              "      <div>\n",
              "<style scoped>\n",
              "    .dataframe tbody tr th:only-of-type {\n",
              "        vertical-align: middle;\n",
              "    }\n",
              "\n",
              "    .dataframe tbody tr th {\n",
              "        vertical-align: top;\n",
              "    }\n",
              "\n",
              "    .dataframe thead th {\n",
              "        text-align: right;\n",
              "    }\n",
              "</style>\n",
              "<table border=\"1\" class=\"dataframe\">\n",
              "  <thead>\n",
              "    <tr style=\"text-align: right;\">\n",
              "      <th></th>\n",
              "      <th>show_id</th>\n",
              "      <th>type</th>\n",
              "      <th>title</th>\n",
              "      <th>director</th>\n",
              "      <th>cast</th>\n",
              "      <th>country</th>\n",
              "      <th>date_added</th>\n",
              "      <th>release_year</th>\n",
              "      <th>rating</th>\n",
              "      <th>duration</th>\n",
              "      <th>listed_in</th>\n",
              "      <th>description</th>\n",
              "    </tr>\n",
              "  </thead>\n",
              "  <tbody>\n",
              "    <tr>\n",
              "      <th>0</th>\n",
              "      <td>s1</td>\n",
              "      <td>TV Show</td>\n",
              "      <td>3%</td>\n",
              "      <td>NaN</td>\n",
              "      <td>João Miguel, Bianca Comparato, Michel Gomes, R...</td>\n",
              "      <td>Brazil</td>\n",
              "      <td>August 14, 2020</td>\n",
              "      <td>2020</td>\n",
              "      <td>TV-MA</td>\n",
              "      <td>4 Seasons</td>\n",
              "      <td>International TV Shows, TV Dramas, TV Sci-Fi &amp;...</td>\n",
              "      <td>In a future where the elite inhabit an island ...</td>\n",
              "    </tr>\n",
              "    <tr>\n",
              "      <th>1</th>\n",
              "      <td>s2</td>\n",
              "      <td>Movie</td>\n",
              "      <td>7:19</td>\n",
              "      <td>Jorge Michel Grau</td>\n",
              "      <td>Demián Bichir, Héctor Bonilla, Oscar Serrano, ...</td>\n",
              "      <td>Mexico</td>\n",
              "      <td>December 23, 2016</td>\n",
              "      <td>2016</td>\n",
              "      <td>TV-MA</td>\n",
              "      <td>93 min</td>\n",
              "      <td>Dramas, International Movies</td>\n",
              "      <td>After a devastating earthquake hits Mexico Cit...</td>\n",
              "    </tr>\n",
              "    <tr>\n",
              "      <th>2</th>\n",
              "      <td>s3</td>\n",
              "      <td>Movie</td>\n",
              "      <td>23:59</td>\n",
              "      <td>Gilbert Chan</td>\n",
              "      <td>Tedd Chan, Stella Chung, Henley Hii, Lawrence ...</td>\n",
              "      <td>Singapore</td>\n",
              "      <td>December 20, 2018</td>\n",
              "      <td>2011</td>\n",
              "      <td>R</td>\n",
              "      <td>78 min</td>\n",
              "      <td>Horror Movies, International Movies</td>\n",
              "      <td>When an army recruit is found dead, his fellow...</td>\n",
              "    </tr>\n",
              "    <tr>\n",
              "      <th>3</th>\n",
              "      <td>s4</td>\n",
              "      <td>Movie</td>\n",
              "      <td>9</td>\n",
              "      <td>Shane Acker</td>\n",
              "      <td>Elijah Wood, John C. Reilly, Jennifer Connelly...</td>\n",
              "      <td>United States</td>\n",
              "      <td>November 16, 2017</td>\n",
              "      <td>2009</td>\n",
              "      <td>PG-13</td>\n",
              "      <td>80 min</td>\n",
              "      <td>Action &amp; Adventure, Independent Movies, Sci-Fi...</td>\n",
              "      <td>In a postapocalyptic world, rag-doll robots hi...</td>\n",
              "    </tr>\n",
              "    <tr>\n",
              "      <th>4</th>\n",
              "      <td>s5</td>\n",
              "      <td>Movie</td>\n",
              "      <td>21</td>\n",
              "      <td>Robert Luketic</td>\n",
              "      <td>Jim Sturgess, Kevin Spacey, Kate Bosworth, Aar...</td>\n",
              "      <td>United States</td>\n",
              "      <td>January 1, 2020</td>\n",
              "      <td>2008</td>\n",
              "      <td>PG-13</td>\n",
              "      <td>123 min</td>\n",
              "      <td>Dramas</td>\n",
              "      <td>A brilliant group of students become card-coun...</td>\n",
              "    </tr>\n",
              "  </tbody>\n",
              "</table>\n",
              "</div>\n",
              "      <button class=\"colab-df-convert\" onclick=\"convertToInteractive('df-f7f1b0ac-8bb5-439b-afb0-5f4abda2e99c')\"\n",
              "              title=\"Convert this dataframe to an interactive table.\"\n",
              "              style=\"display:none;\">\n",
              "        \n",
              "  <svg xmlns=\"http://www.w3.org/2000/svg\" height=\"24px\"viewBox=\"0 0 24 24\"\n",
              "       width=\"24px\">\n",
              "    <path d=\"M0 0h24v24H0V0z\" fill=\"none\"/>\n",
              "    <path d=\"M18.56 5.44l.94 2.06.94-2.06 2.06-.94-2.06-.94-.94-2.06-.94 2.06-2.06.94zm-11 1L8.5 8.5l.94-2.06 2.06-.94-2.06-.94L8.5 2.5l-.94 2.06-2.06.94zm10 10l.94 2.06.94-2.06 2.06-.94-2.06-.94-.94-2.06-.94 2.06-2.06.94z\"/><path d=\"M17.41 7.96l-1.37-1.37c-.4-.4-.92-.59-1.43-.59-.52 0-1.04.2-1.43.59L10.3 9.45l-7.72 7.72c-.78.78-.78 2.05 0 2.83L4 21.41c.39.39.9.59 1.41.59.51 0 1.02-.2 1.41-.59l7.78-7.78 2.81-2.81c.8-.78.8-2.07 0-2.86zM5.41 20L4 18.59l7.72-7.72 1.47 1.35L5.41 20z\"/>\n",
              "  </svg>\n",
              "      </button>\n",
              "      \n",
              "  <style>\n",
              "    .colab-df-container {\n",
              "      display:flex;\n",
              "      flex-wrap:wrap;\n",
              "      gap: 12px;\n",
              "    }\n",
              "\n",
              "    .colab-df-convert {\n",
              "      background-color: #E8F0FE;\n",
              "      border: none;\n",
              "      border-radius: 50%;\n",
              "      cursor: pointer;\n",
              "      display: none;\n",
              "      fill: #1967D2;\n",
              "      height: 32px;\n",
              "      padding: 0 0 0 0;\n",
              "      width: 32px;\n",
              "    }\n",
              "\n",
              "    .colab-df-convert:hover {\n",
              "      background-color: #E2EBFA;\n",
              "      box-shadow: 0px 1px 2px rgba(60, 64, 67, 0.3), 0px 1px 3px 1px rgba(60, 64, 67, 0.15);\n",
              "      fill: #174EA6;\n",
              "    }\n",
              "\n",
              "    [theme=dark] .colab-df-convert {\n",
              "      background-color: #3B4455;\n",
              "      fill: #D2E3FC;\n",
              "    }\n",
              "\n",
              "    [theme=dark] .colab-df-convert:hover {\n",
              "      background-color: #434B5C;\n",
              "      box-shadow: 0px 1px 3px 1px rgba(0, 0, 0, 0.15);\n",
              "      filter: drop-shadow(0px 1px 2px rgba(0, 0, 0, 0.3));\n",
              "      fill: #FFFFFF;\n",
              "    }\n",
              "  </style>\n",
              "\n",
              "      <script>\n",
              "        const buttonEl =\n",
              "          document.querySelector('#df-f7f1b0ac-8bb5-439b-afb0-5f4abda2e99c button.colab-df-convert');\n",
              "        buttonEl.style.display =\n",
              "          google.colab.kernel.accessAllowed ? 'block' : 'none';\n",
              "\n",
              "        async function convertToInteractive(key) {\n",
              "          const element = document.querySelector('#df-f7f1b0ac-8bb5-439b-afb0-5f4abda2e99c');\n",
              "          const dataTable =\n",
              "            await google.colab.kernel.invokeFunction('convertToInteractive',\n",
              "                                                     [key], {});\n",
              "          if (!dataTable) return;\n",
              "\n",
              "          const docLinkHtml = 'Like what you see? Visit the ' +\n",
              "            '<a target=\"_blank\" href=https://colab.research.google.com/notebooks/data_table.ipynb>data table notebook</a>'\n",
              "            + ' to learn more about interactive tables.';\n",
              "          element.innerHTML = '';\n",
              "          dataTable['output_type'] = 'display_data';\n",
              "          await google.colab.output.renderOutput(dataTable, element);\n",
              "          const docLink = document.createElement('div');\n",
              "          docLink.innerHTML = docLinkHtml;\n",
              "          element.appendChild(docLink);\n",
              "        }\n",
              "      </script>\n",
              "    </div>\n",
              "  </div>\n",
              "  "
            ]
          },
          "metadata": {},
          "execution_count": 9
        }
      ]
    },
    {
      "cell_type": "markdown",
      "source": [
        "## **Shape of Netflix data :**"
      ],
      "metadata": {
        "id": "ydG3hVX5OuXl"
      }
    },
    {
      "cell_type": "code",
      "source": [
        "# Shape of dataset :\n",
        "\n",
        "NETFLIX_pk.shape"
      ],
      "metadata": {
        "colab": {
          "base_uri": "https://localhost:8080/"
        },
        "id": "lEnjWqMUO0BV",
        "outputId": "6f8e4e04-85bd-4fd0-f26d-9e8ec988a3ea"
      },
      "execution_count": 12,
      "outputs": [
        {
          "output_type": "execute_result",
          "data": {
            "text/plain": [
              "(7787, 12)"
            ]
          },
          "metadata": {},
          "execution_count": 12
        }
      ]
    },
    {
      "cell_type": "code",
      "source": [
        "# Columns in dataset :\n",
        "\n",
        "NETFLIX_pk.columns "
      ],
      "metadata": {
        "colab": {
          "base_uri": "https://localhost:8080/"
        },
        "id": "NAb98xaRPO5_",
        "outputId": "19de0fd9-7adc-4dc0-f0f8-af476337b9d9"
      },
      "execution_count": 11,
      "outputs": [
        {
          "output_type": "execute_result",
          "data": {
            "text/plain": [
              "Index(['show_id', 'type', 'title', 'director', 'cast', 'country', 'date_added',\n",
              "       'release_year', 'rating', 'duration', 'listed_in', 'description'],\n",
              "      dtype='object')"
            ]
          },
          "metadata": {},
          "execution_count": 11
        }
      ]
    },
    {
      "cell_type": "markdown",
      "source": [
        "## **Summary of data :**\n"
      ],
      "metadata": {
        "id": "6IXEVQg9PgOo"
      }
    },
    {
      "cell_type": "code",
      "source": [
        "NETFLIX_pk.info()"
      ],
      "metadata": {
        "colab": {
          "base_uri": "https://localhost:8080/"
        },
        "id": "dbV-rrPpPbFq",
        "outputId": "76446c71-9f7c-488b-baa0-81b5b10a9b28"
      },
      "execution_count": 13,
      "outputs": [
        {
          "output_type": "stream",
          "name": "stdout",
          "text": [
            "<class 'pandas.core.frame.DataFrame'>\n",
            "RangeIndex: 7787 entries, 0 to 7786\n",
            "Data columns (total 12 columns):\n",
            " #   Column        Non-Null Count  Dtype \n",
            "---  ------        --------------  ----- \n",
            " 0   show_id       7787 non-null   object\n",
            " 1   type          7787 non-null   object\n",
            " 2   title         7787 non-null   object\n",
            " 3   director      5398 non-null   object\n",
            " 4   cast          7069 non-null   object\n",
            " 5   country       7280 non-null   object\n",
            " 6   date_added    7777 non-null   object\n",
            " 7   release_year  7787 non-null   int64 \n",
            " 8   rating        7780 non-null   object\n",
            " 9   duration      7787 non-null   object\n",
            " 10  listed_in     7787 non-null   object\n",
            " 11  description   7787 non-null   object\n",
            "dtypes: int64(1), object(11)\n",
            "memory usage: 730.2+ KB\n"
          ]
        }
      ]
    },
    {
      "cell_type": "code",
      "source": [
        "# Statistical information :\n",
        "\n",
        "NETFLIX_pk.describe()"
      ],
      "metadata": {
        "colab": {
          "base_uri": "https://localhost:8080/",
          "height": 300
        },
        "id": "1_M8zx9NP1z7",
        "outputId": "163dca68-3929-472b-a962-da5e68fb5443"
      },
      "execution_count": 14,
      "outputs": [
        {
          "output_type": "execute_result",
          "data": {
            "text/plain": [
              "       release_year\n",
              "count   7787.000000\n",
              "mean    2013.932580\n",
              "std        8.757395\n",
              "min     1925.000000\n",
              "25%     2013.000000\n",
              "50%     2017.000000\n",
              "75%     2018.000000\n",
              "max     2021.000000"
            ],
            "text/html": [
              "\n",
              "  <div id=\"df-d3fa293f-e58f-4996-a958-2260cbd346ce\">\n",
              "    <div class=\"colab-df-container\">\n",
              "      <div>\n",
              "<style scoped>\n",
              "    .dataframe tbody tr th:only-of-type {\n",
              "        vertical-align: middle;\n",
              "    }\n",
              "\n",
              "    .dataframe tbody tr th {\n",
              "        vertical-align: top;\n",
              "    }\n",
              "\n",
              "    .dataframe thead th {\n",
              "        text-align: right;\n",
              "    }\n",
              "</style>\n",
              "<table border=\"1\" class=\"dataframe\">\n",
              "  <thead>\n",
              "    <tr style=\"text-align: right;\">\n",
              "      <th></th>\n",
              "      <th>release_year</th>\n",
              "    </tr>\n",
              "  </thead>\n",
              "  <tbody>\n",
              "    <tr>\n",
              "      <th>count</th>\n",
              "      <td>7787.000000</td>\n",
              "    </tr>\n",
              "    <tr>\n",
              "      <th>mean</th>\n",
              "      <td>2013.932580</td>\n",
              "    </tr>\n",
              "    <tr>\n",
              "      <th>std</th>\n",
              "      <td>8.757395</td>\n",
              "    </tr>\n",
              "    <tr>\n",
              "      <th>min</th>\n",
              "      <td>1925.000000</td>\n",
              "    </tr>\n",
              "    <tr>\n",
              "      <th>25%</th>\n",
              "      <td>2013.000000</td>\n",
              "    </tr>\n",
              "    <tr>\n",
              "      <th>50%</th>\n",
              "      <td>2017.000000</td>\n",
              "    </tr>\n",
              "    <tr>\n",
              "      <th>75%</th>\n",
              "      <td>2018.000000</td>\n",
              "    </tr>\n",
              "    <tr>\n",
              "      <th>max</th>\n",
              "      <td>2021.000000</td>\n",
              "    </tr>\n",
              "  </tbody>\n",
              "</table>\n",
              "</div>\n",
              "      <button class=\"colab-df-convert\" onclick=\"convertToInteractive('df-d3fa293f-e58f-4996-a958-2260cbd346ce')\"\n",
              "              title=\"Convert this dataframe to an interactive table.\"\n",
              "              style=\"display:none;\">\n",
              "        \n",
              "  <svg xmlns=\"http://www.w3.org/2000/svg\" height=\"24px\"viewBox=\"0 0 24 24\"\n",
              "       width=\"24px\">\n",
              "    <path d=\"M0 0h24v24H0V0z\" fill=\"none\"/>\n",
              "    <path d=\"M18.56 5.44l.94 2.06.94-2.06 2.06-.94-2.06-.94-.94-2.06-.94 2.06-2.06.94zm-11 1L8.5 8.5l.94-2.06 2.06-.94-2.06-.94L8.5 2.5l-.94 2.06-2.06.94zm10 10l.94 2.06.94-2.06 2.06-.94-2.06-.94-.94-2.06-.94 2.06-2.06.94z\"/><path d=\"M17.41 7.96l-1.37-1.37c-.4-.4-.92-.59-1.43-.59-.52 0-1.04.2-1.43.59L10.3 9.45l-7.72 7.72c-.78.78-.78 2.05 0 2.83L4 21.41c.39.39.9.59 1.41.59.51 0 1.02-.2 1.41-.59l7.78-7.78 2.81-2.81c.8-.78.8-2.07 0-2.86zM5.41 20L4 18.59l7.72-7.72 1.47 1.35L5.41 20z\"/>\n",
              "  </svg>\n",
              "      </button>\n",
              "      \n",
              "  <style>\n",
              "    .colab-df-container {\n",
              "      display:flex;\n",
              "      flex-wrap:wrap;\n",
              "      gap: 12px;\n",
              "    }\n",
              "\n",
              "    .colab-df-convert {\n",
              "      background-color: #E8F0FE;\n",
              "      border: none;\n",
              "      border-radius: 50%;\n",
              "      cursor: pointer;\n",
              "      display: none;\n",
              "      fill: #1967D2;\n",
              "      height: 32px;\n",
              "      padding: 0 0 0 0;\n",
              "      width: 32px;\n",
              "    }\n",
              "\n",
              "    .colab-df-convert:hover {\n",
              "      background-color: #E2EBFA;\n",
              "      box-shadow: 0px 1px 2px rgba(60, 64, 67, 0.3), 0px 1px 3px 1px rgba(60, 64, 67, 0.15);\n",
              "      fill: #174EA6;\n",
              "    }\n",
              "\n",
              "    [theme=dark] .colab-df-convert {\n",
              "      background-color: #3B4455;\n",
              "      fill: #D2E3FC;\n",
              "    }\n",
              "\n",
              "    [theme=dark] .colab-df-convert:hover {\n",
              "      background-color: #434B5C;\n",
              "      box-shadow: 0px 1px 3px 1px rgba(0, 0, 0, 0.15);\n",
              "      filter: drop-shadow(0px 1px 2px rgba(0, 0, 0, 0.3));\n",
              "      fill: #FFFFFF;\n",
              "    }\n",
              "  </style>\n",
              "\n",
              "      <script>\n",
              "        const buttonEl =\n",
              "          document.querySelector('#df-d3fa293f-e58f-4996-a958-2260cbd346ce button.colab-df-convert');\n",
              "        buttonEl.style.display =\n",
              "          google.colab.kernel.accessAllowed ? 'block' : 'none';\n",
              "\n",
              "        async function convertToInteractive(key) {\n",
              "          const element = document.querySelector('#df-d3fa293f-e58f-4996-a958-2260cbd346ce');\n",
              "          const dataTable =\n",
              "            await google.colab.kernel.invokeFunction('convertToInteractive',\n",
              "                                                     [key], {});\n",
              "          if (!dataTable) return;\n",
              "\n",
              "          const docLinkHtml = 'Like what you see? Visit the ' +\n",
              "            '<a target=\"_blank\" href=https://colab.research.google.com/notebooks/data_table.ipynb>data table notebook</a>'\n",
              "            + ' to learn more about interactive tables.';\n",
              "          element.innerHTML = '';\n",
              "          dataTable['output_type'] = 'display_data';\n",
              "          await google.colab.output.renderOutput(dataTable, element);\n",
              "          const docLink = document.createElement('div');\n",
              "          docLink.innerHTML = docLinkHtml;\n",
              "          element.appendChild(docLink);\n",
              "        }\n",
              "      </script>\n",
              "    </div>\n",
              "  </div>\n",
              "  "
            ]
          },
          "metadata": {},
          "execution_count": 14
        }
      ]
    },
    {
      "cell_type": "code",
      "source": [
        "# Unique values :\n",
        "\n",
        "NETFLIX_pk.nunique()"
      ],
      "metadata": {
        "colab": {
          "base_uri": "https://localhost:8080/"
        },
        "id": "mZmexf0dQIO1",
        "outputId": "490e7ff0-f68a-4fc6-f251-15f8182effb4"
      },
      "execution_count": 15,
      "outputs": [
        {
          "output_type": "execute_result",
          "data": {
            "text/plain": [
              "show_id         7787\n",
              "type               2\n",
              "title           7787\n",
              "director        4049\n",
              "cast            6831\n",
              "country          681\n",
              "date_added      1565\n",
              "release_year      73\n",
              "rating            14\n",
              "duration         216\n",
              "listed_in        492\n",
              "description     7769\n",
              "dtype: int64"
            ]
          },
          "metadata": {},
          "execution_count": 15
        }
      ]
    },
    {
      "cell_type": "markdown",
      "source": [
        "**1. Data set 7787 rows and 12 columns.**\n",
        "\n",
        "**2. Need to clean the data set.**"
      ],
      "metadata": {
        "id": "W2qZA6YMQlsi"
      }
    },
    {
      "cell_type": "markdown",
      "source": [
        "# **Exploratory Data Analysis (EDA)**\n",
        "\n",
        "\n",
        "\n",
        "---\n",
        "\n",
        "\n",
        "\n",
        "---\n",
        "\n",
        "\n"
      ],
      "metadata": {
        "id": "DOeUkPNWQ9KS"
      }
    },
    {
      "cell_type": "markdown",
      "source": [
        "## **Dealing with Duplicate Values :**"
      ],
      "metadata": {
        "id": "zHimiGE4RDwH"
      }
    },
    {
      "cell_type": "code",
      "source": [
        "# Count Duplicate Values : \n",
        "\n",
        "NETFLIX_pk.duplicated().sum()"
      ],
      "metadata": {
        "colab": {
          "base_uri": "https://localhost:8080/"
        },
        "id": "MA0bRt8QSaho",
        "outputId": "ebd329d4-da41-429c-e187-c4f2201e8de2"
      },
      "execution_count": 16,
      "outputs": [
        {
          "output_type": "execute_result",
          "data": {
            "text/plain": [
              "0"
            ]
          },
          "metadata": {},
          "execution_count": 16
        }
      ]
    },
    {
      "cell_type": "markdown",
      "source": [
        "Now, NO duplicate values are present in dataset. "
      ],
      "metadata": {
        "id": "o6423R_LSmwH"
      }
    },
    {
      "cell_type": "markdown",
      "source": [
        "## **Null Values :**  "
      ],
      "metadata": {
        "id": "8plA1TCRSyyY"
      }
    },
    {
      "cell_type": "code",
      "source": [
        "# Count of Null values :\n",
        "\n",
        "NETFLIX_pk.isnull().sum()   "
      ],
      "metadata": {
        "colab": {
          "base_uri": "https://localhost:8080/"
        },
        "id": "GoQf9WmSTEst",
        "outputId": "b96d6cb2-1093-4348-e6a0-1ce208d803a2"
      },
      "execution_count": 17,
      "outputs": [
        {
          "output_type": "execute_result",
          "data": {
            "text/plain": [
              "show_id            0\n",
              "type               0\n",
              "title              0\n",
              "director        2389\n",
              "cast             718\n",
              "country          507\n",
              "date_added        10\n",
              "release_year       0\n",
              "rating             7\n",
              "duration           0\n",
              "listed_in          0\n",
              "description        0\n",
              "dtype: int64"
            ]
          },
          "metadata": {},
          "execution_count": 17
        }
      ]
    },
    {
      "cell_type": "code",
      "source": [
        "for i in NETFLIX_pk.columns:\n",
        "    null_rate = NETFLIX_pk[i].isna().sum() / len(NETFLIX_pk) * 100 \n",
        "    if null_rate > 0 :\n",
        "        print(\"{} null rate: {}%\".format(i,round(null_rate,2)))"
      ],
      "metadata": {
        "colab": {
          "base_uri": "https://localhost:8080/"
        },
        "id": "1Wooi8uSTUpO",
        "outputId": "996c8fec-2297-41a2-fb56-d67f73742765"
      },
      "execution_count": 18,
      "outputs": [
        {
          "output_type": "stream",
          "name": "stdout",
          "text": [
            "director null rate: 30.68%\n",
            "cast null rate: 9.22%\n",
            "country null rate: 6.51%\n",
            "date_added null rate: 0.13%\n",
            "rating null rate: 0.09%\n"
          ]
        }
      ]
    },
    {
      "cell_type": "markdown",
      "source": [],
      "metadata": {
        "id": "V4RdhH1VTjFI"
      }
    },
    {
      "cell_type": "markdown",
      "metadata": {
        "id": "rVYtZ-416haL"
      },
      "source": [
        "![image.png](data:image/png;base64,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)"
      ]
    },
    {
      "cell_type": "code",
      "source": [
        "NETFLIX_pk['country'] = NETFLIX_pk['country'].fillna('No Country')\n",
        "NETFLIX_pk['director'] = NETFLIX_pk['director'].fillna('No Director')\n",
        "NETFLIX_pk['cast'] = NETFLIX_pk['cast'].fillna('No Cast')\n",
        "NETFLIX_pk.dropna(subset=['date_added','rating'],inplace=True)"
      ],
      "metadata": {
        "id": "R4JwJ4F9TUmb"
      },
      "execution_count": 19,
      "outputs": []
    },
    {
      "cell_type": "code",
      "source": [
        "NETFLIX_pk.isnull().sum()"
      ],
      "metadata": {
        "colab": {
          "base_uri": "https://localhost:8080/"
        },
        "id": "fckRIAkyUPSa",
        "outputId": "614923a2-17b1-4597-c1d0-a91cdf8440fe"
      },
      "execution_count": 20,
      "outputs": [
        {
          "output_type": "execute_result",
          "data": {
            "text/plain": [
              "show_id         0\n",
              "type            0\n",
              "title           0\n",
              "director        0\n",
              "cast            0\n",
              "country         0\n",
              "date_added      0\n",
              "release_year    0\n",
              "rating          0\n",
              "duration        0\n",
              "listed_in       0\n",
              "description     0\n",
              "dtype: int64"
            ]
          },
          "metadata": {},
          "execution_count": 20
        }
      ]
    },
    {
      "cell_type": "code",
      "source": [
        "# Create new features to store date, day, month and year seperately :\n",
        "\n",
        "# First convert date_added to date time format.\n",
        "NETFLIX_pk[\"date_added\"] = pd.to_datetime(NETFLIX_pk['date_added'])\n",
        "  \n",
        "# Compute day. \n",
        "NETFLIX_pk['day_added'] = NETFLIX_pk['date_added'].dt.day   \n",
        "\n",
        "# Compute year.         \n",
        "NETFLIX_pk['year_added'] = NETFLIX_pk['date_added'].dt.year\n",
        "\n",
        "# Compute mount.\n",
        "NETFLIX_pk['month_added'] = NETFLIX_pk['date_added'].dt.month        "
      ],
      "metadata": {
        "id": "P61K2X2mUXgv"
      },
      "execution_count": 22,
      "outputs": []
    },
    {
      "cell_type": "markdown",
      "source": [
        "# **Data Visualisations**"
      ],
      "metadata": {
        "id": "o3Rc6QdjVB2C"
      }
    },
    {
      "cell_type": "markdown",
      "source": [
        "### **1. Content Type On Netflix :**"
      ],
      "metadata": {
        "id": "1GakWj2AVqRB"
      }
    },
    {
      "cell_type": "code",
      "source": [
        "olors = ['\t#db0000', '\t#564d4d']\n",
        "labels = ['Tv Show', 'Movie']\n",
        "tv_show = NETFLIX_DF.type.value_counts()[1]\n",
        "movie = NETFLIX_DF.type.value_counts()[0]\n",
        "\n",
        "fig = go.Figure(data=[go.Pie(labels=labels, values=[tv_show, movie], hole=.6)])\n",
        "fig.update_layout(\n",
        "    title_text=\"Type of content watched on Netflix\",title_x=0.5, legend=dict(x=0.9),height=500, width=500,\n",
        "    # Add annotations in the center of the donut pies.\n",
        "    annotations=[dict(text='Type of content.', font_size=20, showarrow=False)])\n"
      ],
      "metadata": {
        "colab": {
          "base_uri": "https://localhost:8080/",
          "height": 517
        },
        "id": "Kf8ZTS6mVzWD",
        "outputId": "3c4dac19-38ad-47e5-ea1c-3713faab872a"
      },
      "execution_count": 23,
      "outputs": [
        {
          "output_type": "display_data",
          "data": {
            "text/html": [
              "<html>\n",
              "<head><meta charset=\"utf-8\" /></head>\n",
              "<body>\n",
              "    <div>            <script src=\"https://cdnjs.cloudflare.com/ajax/libs/mathjax/2.7.5/MathJax.js?config=TeX-AMS-MML_SVG\"></script><script type=\"text/javascript\">if (window.MathJax) {MathJax.Hub.Config({SVG: {font: \"STIX-Web\"}});}</script>                <script type=\"text/javascript\">window.PlotlyConfig = {MathJaxConfig: 'local'};</script>\n",
              "        <script src=\"https://cdn.plot.ly/plotly-2.8.3.min.js\"></script>                <div id=\"98ec24e0-8361-4b4b-9589-b864d32f6c7f\" class=\"plotly-graph-div\" style=\"height:500px; width:500px;\"></div>            <script type=\"text/javascript\">                                    window.PLOTLYENV=window.PLOTLYENV || {};                                    if (document.getElementById(\"98ec24e0-8361-4b4b-9589-b864d32f6c7f\")) {                    Plotly.newPlot(                        \"98ec24e0-8361-4b4b-9589-b864d32f6c7f\",                        [{\"hole\":0.6,\"labels\":[\"Tv Show\",\"Movie\"],\"values\":[2410,5377],\"type\":\"pie\"}],                        {\"template\":{\"data\":{\"bar\":[{\"error_x\":{\"color\":\"#2a3f5f\"},\"error_y\":{\"color\":\"#2a3f5f\"},\"marker\":{\"line\":{\"color\":\"#E5ECF6\",\"width\":0.5},\"pattern\":{\"fillmode\":\"overlay\",\"size\":10,\"solidity\":0.2}},\"type\":\"bar\"}],\"barpolar\":[{\"marker\":{\"line\":{\"color\":\"#E5ECF6\",\"width\":0.5},\"pattern\":{\"fillmode\":\"overlay\",\"size\":10,\"solidity\":0.2}},\"type\":\"barpolar\"}],\"carpet\":[{\"aaxis\":{\"endlinecolor\":\"#2a3f5f\",\"gridcolor\":\"white\",\"linecolor\":\"white\",\"minorgridcolor\":\"white\",\"startlinecolor\":\"#2a3f5f\"},\"baxis\":{\"endlinecolor\":\"#2a3f5f\",\"gridcolor\":\"white\",\"linecolor\":\"white\",\"minorgridcolor\":\"white\",\"startlinecolor\":\"#2a3f5f\"},\"type\":\"carpet\"}],\"choropleth\":[{\"colorbar\":{\"outlinewidth\":0,\"ticks\":\"\"},\"type\":\"choropleth\"}],\"contour\":[{\"colorbar\":{\"outlinewidth\":0,\"ticks\":\"\"},\"colorscale\":[[0.0,\"#0d0887\"],[0.1111111111111111,\"#46039f\"],[0.2222222222222222,\"#7201a8\"],[0.3333333333333333,\"#9c179e\"],[0.4444444444444444,\"#bd3786\"],[0.5555555555555556,\"#d8576b\"],[0.6666666666666666,\"#ed7953\"],[0.7777777777777778,\"#fb9f3a\"],[0.8888888888888888,\"#fdca26\"],[1.0,\"#f0f921\"]],\"type\":\"contour\"}],\"contourcarpet\":[{\"colorbar\":{\"outlinewidth\":0,\"ticks\":\"\"},\"type\":\"contourcarpet\"}],\"heatmap\":[{\"colorbar\":{\"outlinewidth\":0,\"ticks\":\"\"},\"colorscale\":[[0.0,\"#0d0887\"],[0.1111111111111111,\"#46039f\"],[0.2222222222222222,\"#7201a8\"],[0.3333333333333333,\"#9c179e\"],[0.4444444444444444,\"#bd3786\"],[0.5555555555555556,\"#d8576b\"],[0.6666666666666666,\"#ed7953\"],[0.7777777777777778,\"#fb9f3a\"],[0.8888888888888888,\"#fdca26\"],[1.0,\"#f0f921\"]],\"type\":\"heatmap\"}],\"heatmapgl\":[{\"colorbar\":{\"outlinewidth\":0,\"ticks\":\"\"},\"colorscale\":[[0.0,\"#0d0887\"],[0.1111111111111111,\"#46039f\"],[0.2222222222222222,\"#7201a8\"],[0.3333333333333333,\"#9c179e\"],[0.4444444444444444,\"#bd3786\"],[0.5555555555555556,\"#d8576b\"],[0.6666666666666666,\"#ed7953\"],[0.7777777777777778,\"#fb9f3a\"],[0.8888888888888888,\"#fdca26\"],[1.0,\"#f0f921\"]],\"type\":\"heatmapgl\"}],\"histogram\":[{\"marker\":{\"pattern\":{\"fillmode\":\"overlay\",\"size\":10,\"solidity\":0.2}},\"type\":\"histogram\"}],\"histogram2d\":[{\"colorbar\":{\"outlinewidth\":0,\"ticks\":\"\"},\"colorscale\":[[0.0,\"#0d0887\"],[0.1111111111111111,\"#46039f\"],[0.2222222222222222,\"#7201a8\"],[0.3333333333333333,\"#9c179e\"],[0.4444444444444444,\"#bd3786\"],[0.5555555555555556,\"#d8576b\"],[0.6666666666666666,\"#ed7953\"],[0.7777777777777778,\"#fb9f3a\"],[0.8888888888888888,\"#fdca26\"],[1.0,\"#f0f921\"]],\"type\":\"histogram2d\"}],\"histogram2dcontour\":[{\"colorbar\":{\"outlinewidth\":0,\"ticks\":\"\"},\"colorscale\":[[0.0,\"#0d0887\"],[0.1111111111111111,\"#46039f\"],[0.2222222222222222,\"#7201a8\"],[0.3333333333333333,\"#9c179e\"],[0.4444444444444444,\"#bd3786\"],[0.5555555555555556,\"#d8576b\"],[0.6666666666666666,\"#ed7953\"],[0.7777777777777778,\"#fb9f3a\"],[0.8888888888888888,\"#fdca26\"],[1.0,\"#f0f921\"]],\"type\":\"histogram2dcontour\"}],\"mesh3d\":[{\"colorbar\":{\"outlinewidth\":0,\"ticks\":\"\"},\"type\":\"mesh3d\"}],\"parcoords\":[{\"line\":{\"colorbar\":{\"outlinewidth\":0,\"ticks\":\"\"}},\"type\":\"parcoords\"}],\"pie\":[{\"automargin\":true,\"type\":\"pie\"}],\"scatter\":[{\"marker\":{\"colorbar\":{\"outlinewidth\":0,\"ticks\":\"\"}},\"type\":\"scatter\"}],\"scatter3d\":[{\"line\":{\"colorbar\":{\"outlinewidth\":0,\"ticks\":\"\"}},\"marker\":{\"colorbar\":{\"outlinewidth\":0,\"ticks\":\"\"}},\"type\":\"scatter3d\"}],\"scattercarpet\":[{\"marker\":{\"colorbar\":{\"outlinewidth\":0,\"ticks\":\"\"}},\"type\":\"scattercarpet\"}],\"scattergeo\":[{\"marker\":{\"colorbar\":{\"outlinewidth\":0,\"ticks\":\"\"}},\"type\":\"scattergeo\"}],\"scattergl\":[{\"marker\":{\"colorbar\":{\"outlinewidth\":0,\"ticks\":\"\"}},\"type\":\"scattergl\"}],\"scattermapbox\":[{\"marker\":{\"colorbar\":{\"outlinewidth\":0,\"ticks\":\"\"}},\"type\":\"scattermapbox\"}],\"scatterpolar\":[{\"marker\":{\"colorbar\":{\"outlinewidth\":0,\"ticks\":\"\"}},\"type\":\"scatterpolar\"}],\"scatterpolargl\":[{\"marker\":{\"colorbar\":{\"outlinewidth\":0,\"ticks\":\"\"}},\"type\":\"scatterpolargl\"}],\"scatterternary\":[{\"marker\":{\"colorbar\":{\"outlinewidth\":0,\"ticks\":\"\"}},\"type\":\"scatterternary\"}],\"surface\":[{\"colorbar\":{\"outlinewidth\":0,\"ticks\":\"\"},\"colorscale\":[[0.0,\"#0d0887\"],[0.1111111111111111,\"#46039f\"],[0.2222222222222222,\"#7201a8\"],[0.3333333333333333,\"#9c179e\"],[0.4444444444444444,\"#bd3786\"],[0.5555555555555556,\"#d8576b\"],[0.6666666666666666,\"#ed7953\"],[0.7777777777777778,\"#fb9f3a\"],[0.8888888888888888,\"#fdca26\"],[1.0,\"#f0f921\"]],\"type\":\"surface\"}],\"table\":[{\"cells\":{\"fill\":{\"color\":\"#EBF0F8\"},\"line\":{\"color\":\"white\"}},\"header\":{\"fill\":{\"color\":\"#C8D4E3\"},\"line\":{\"color\":\"white\"}},\"type\":\"table\"}]},\"layout\":{\"annotationdefaults\":{\"arrowcolor\":\"#2a3f5f\",\"arrowhead\":0,\"arrowwidth\":1},\"autotypenumbers\":\"strict\",\"coloraxis\":{\"colorbar\":{\"outlinewidth\":0,\"ticks\":\"\"}},\"colorscale\":{\"diverging\":[[0,\"#8e0152\"],[0.1,\"#c51b7d\"],[0.2,\"#de77ae\"],[0.3,\"#f1b6da\"],[0.4,\"#fde0ef\"],[0.5,\"#f7f7f7\"],[0.6,\"#e6f5d0\"],[0.7,\"#b8e186\"],[0.8,\"#7fbc41\"],[0.9,\"#4d9221\"],[1,\"#276419\"]],\"sequential\":[[0.0,\"#0d0887\"],[0.1111111111111111,\"#46039f\"],[0.2222222222222222,\"#7201a8\"],[0.3333333333333333,\"#9c179e\"],[0.4444444444444444,\"#bd3786\"],[0.5555555555555556,\"#d8576b\"],[0.6666666666666666,\"#ed7953\"],[0.7777777777777778,\"#fb9f3a\"],[0.8888888888888888,\"#fdca26\"],[1.0,\"#f0f921\"]],\"sequentialminus\":[[0.0,\"#0d0887\"],[0.1111111111111111,\"#46039f\"],[0.2222222222222222,\"#7201a8\"],[0.3333333333333333,\"#9c179e\"],[0.4444444444444444,\"#bd3786\"],[0.5555555555555556,\"#d8576b\"],[0.6666666666666666,\"#ed7953\"],[0.7777777777777778,\"#fb9f3a\"],[0.8888888888888888,\"#fdca26\"],[1.0,\"#f0f921\"]]},\"colorway\":[\"#636efa\",\"#EF553B\",\"#00cc96\",\"#ab63fa\",\"#FFA15A\",\"#19d3f3\",\"#FF6692\",\"#B6E880\",\"#FF97FF\",\"#FECB52\"],\"font\":{\"color\":\"#2a3f5f\"},\"geo\":{\"bgcolor\":\"white\",\"lakecolor\":\"white\",\"landcolor\":\"#E5ECF6\",\"showlakes\":true,\"showland\":true,\"subunitcolor\":\"white\"},\"hoverlabel\":{\"align\":\"left\"},\"hovermode\":\"closest\",\"mapbox\":{\"style\":\"light\"},\"paper_bgcolor\":\"white\",\"plot_bgcolor\":\"#E5ECF6\",\"polar\":{\"angularaxis\":{\"gridcolor\":\"white\",\"linecolor\":\"white\",\"ticks\":\"\"},\"bgcolor\":\"#E5ECF6\",\"radialaxis\":{\"gridcolor\":\"white\",\"linecolor\":\"white\",\"ticks\":\"\"}},\"scene\":{\"xaxis\":{\"backgroundcolor\":\"#E5ECF6\",\"gridcolor\":\"white\",\"gridwidth\":2,\"linecolor\":\"white\",\"showbackground\":true,\"ticks\":\"\",\"zerolinecolor\":\"white\"},\"yaxis\":{\"backgroundcolor\":\"#E5ECF6\",\"gridcolor\":\"white\",\"gridwidth\":2,\"linecolor\":\"white\",\"showbackground\":true,\"ticks\":\"\",\"zerolinecolor\":\"white\"},\"zaxis\":{\"backgroundcolor\":\"#E5ECF6\",\"gridcolor\":\"white\",\"gridwidth\":2,\"linecolor\":\"white\",\"showbackground\":true,\"ticks\":\"\",\"zerolinecolor\":\"white\"}},\"shapedefaults\":{\"line\":{\"color\":\"#2a3f5f\"}},\"ternary\":{\"aaxis\":{\"gridcolor\":\"white\",\"linecolor\":\"white\",\"ticks\":\"\"},\"baxis\":{\"gridcolor\":\"white\",\"linecolor\":\"white\",\"ticks\":\"\"},\"bgcolor\":\"#E5ECF6\",\"caxis\":{\"gridcolor\":\"white\",\"linecolor\":\"white\",\"ticks\":\"\"}},\"title\":{\"x\":0.05},\"xaxis\":{\"automargin\":true,\"gridcolor\":\"white\",\"linecolor\":\"white\",\"ticks\":\"\",\"title\":{\"standoff\":15},\"zerolinecolor\":\"white\",\"zerolinewidth\":2},\"yaxis\":{\"automargin\":true,\"gridcolor\":\"white\",\"linecolor\":\"white\",\"ticks\":\"\",\"title\":{\"standoff\":15},\"zerolinecolor\":\"white\",\"zerolinewidth\":2}}},\"title\":{\"text\":\"Type of content watched on Netflix\",\"x\":0.5},\"legend\":{\"x\":0.9},\"height\":500,\"width\":500,\"annotations\":[{\"showarrow\":false,\"text\":\"Type of content.\",\"font\":{\"size\":20}}]},                        {\"responsive\": true}                    ).then(function(){\n",
              "                            \n",
              "var gd = document.getElementById('98ec24e0-8361-4b4b-9589-b864d32f6c7f');\n",
              "var x = new MutationObserver(function (mutations, observer) {{\n",
              "        var display = window.getComputedStyle(gd).display;\n",
              "        if (!display || display === 'none') {{\n",
              "            console.log([gd, 'removed!']);\n",
              "            Plotly.purge(gd);\n",
              "            observer.disconnect();\n",
              "        }}\n",
              "}});\n",
              "\n",
              "// Listen for the removal of the full notebook cells\n",
              "var notebookContainer = gd.closest('#notebook-container');\n",
              "if (notebookContainer) {{\n",
              "    x.observe(notebookContainer, {childList: true});\n",
              "}}\n",
              "\n",
              "// Listen for the clearing of the current output cell\n",
              "var outputEl = gd.closest('.output');\n",
              "if (outputEl) {{\n",
              "    x.observe(outputEl, {childList: true});\n",
              "}}\n",
              "\n",
              "                        })                };                            </script>        </div>\n",
              "</body>\n",
              "</html>"
            ]
          },
          "metadata": {}
        }
      ]
    },
    {
      "cell_type": "markdown",
      "source": [
        "### **Movies are clearly more popular on Netflix than TV shows.**"
      ],
      "metadata": {
        "id": "0uWC8beFV99_"
      }
    },
    {
      "cell_type": "markdown",
      "source": [
        "###  **2.Content growth over years :**"
      ],
      "metadata": {
        "id": "We5MFTO4WKj0"
      }
    },
    {
      "cell_type": "code",
      "source": [
        "# Plot growth of the contents over the years :\n",
        "\n",
        "tv_show = NETFLIX_pk[NETFLIX_pk[\"type\"] == \"TV Show\"]\n",
        "movie = NETFLIX_pk[NETFLIX_pk[\"type\"] == \"Movie\"]\n",
        "\n",
        "col = \"year_added\"\n",
        "\n",
        "content_1 = tv_show[col].value_counts().reset_index()\n",
        "content_1 = content_1.rename(columns = {col : \"count\", \"index\" : col})\n",
        "content_1 = content_1.sort_values(col)\n",
        "\n",
        "content_2 = movie[col].value_counts().reset_index()\n",
        "content_2 = content_2.rename(columns = {col : \"count\", \"index\" : col})\n",
        "content_2 = content_2.sort_values(col)\n",
        "\n",
        "trace1 = go.Scatter(x=content_1[col], y=content_1[\"count\"], name=\"TV Shows\", marker=dict(color=\"#db0000\"))\n",
        "trace2 = go.Scatter(x=content_2[col], y=content_2[\"count\"], name=\"Movies\", marker=dict(color=\"#564d4d\"))\n",
        "\n",
        "data = [trace1, trace2]\n",
        "layout = go.Layout(title=\"Content added over the years\",title_x=0.15, legend=dict(x=0.4, y=1.1, orientation=\"h\"))\n",
        "fig = go.Figure(data, layout=layout)\n",
        "fig.show()"
      ],
      "metadata": {
        "colab": {
          "base_uri": "https://localhost:8080/",
          "height": 542
        },
        "id": "Qv4Fjpv6WvuM",
        "outputId": "48e19226-93d8-4fb1-850e-d9cf9c53f8f2"
      },
      "execution_count": 24,
      "outputs": [
        {
          "output_type": "display_data",
          "data": {
            "text/html": [
              "<html>\n",
              "<head><meta charset=\"utf-8\" /></head>\n",
              "<body>\n",
              "    <div>            <script src=\"https://cdnjs.cloudflare.com/ajax/libs/mathjax/2.7.5/MathJax.js?config=TeX-AMS-MML_SVG\"></script><script type=\"text/javascript\">if (window.MathJax) {MathJax.Hub.Config({SVG: {font: \"STIX-Web\"}});}</script>                <script type=\"text/javascript\">window.PlotlyConfig = {MathJaxConfig: 'local'};</script>\n",
              "        <script src=\"https://cdn.plot.ly/plotly-2.8.3.min.js\"></script>                <div id=\"33b07ac6-2d86-40b3-802a-7b58a66c9739\" class=\"plotly-graph-div\" style=\"height:525px; width:100%;\"></div>            <script type=\"text/javascript\">                                    window.PLOTLYENV=window.PLOTLYENV || {};                                    if (document.getElementById(\"33b07ac6-2d86-40b3-802a-7b58a66c9739\")) {                    Plotly.newPlot(                        \"33b07ac6-2d86-40b3-802a-7b58a66c9739\",                        [{\"marker\":{\"color\":\"#db0000\"},\"name\":\"TV Shows\",\"x\":[2008,2013,2014,2015,2016,2017,2018,2019,2020,2021],\"y\":[1,5,6,30,184,361,429,656,697,29],\"type\":\"scatter\"},{\"marker\":{\"color\":\"#564d4d\"},\"name\":\"Movies\",\"x\":[2008,2009,2010,2011,2012,2013,2014,2015,2016,2017,2018,2019,2020,2021],\"y\":[1,2,1,13,3,6,19,58,256,861,1255,1497,1312,88],\"type\":\"scatter\"}],                        {\"legend\":{\"orientation\":\"h\",\"x\":0.4,\"y\":1.1},\"title\":{\"text\":\"Content added over the years\",\"x\":0.15},\"template\":{\"data\":{\"bar\":[{\"error_x\":{\"color\":\"#2a3f5f\"},\"error_y\":{\"color\":\"#2a3f5f\"},\"marker\":{\"line\":{\"color\":\"#E5ECF6\",\"width\":0.5},\"pattern\":{\"fillmode\":\"overlay\",\"size\":10,\"solidity\":0.2}},\"type\":\"bar\"}],\"barpolar\":[{\"marker\":{\"line\":{\"color\":\"#E5ECF6\",\"width\":0.5},\"pattern\":{\"fillmode\":\"overlay\",\"size\":10,\"solidity\":0.2}},\"type\":\"barpolar\"}],\"carpet\":[{\"aaxis\":{\"endlinecolor\":\"#2a3f5f\",\"gridcolor\":\"white\",\"linecolor\":\"white\",\"minorgridcolor\":\"white\",\"startlinecolor\":\"#2a3f5f\"},\"baxis\":{\"endlinecolor\":\"#2a3f5f\",\"gridcolor\":\"white\",\"linecolor\":\"white\",\"minorgridcolor\":\"white\",\"startlinecolor\":\"#2a3f5f\"},\"type\":\"carpet\"}],\"choropleth\":[{\"colorbar\":{\"outlinewidth\":0,\"ticks\":\"\"},\"type\":\"choropleth\"}],\"contour\":[{\"colorbar\":{\"outlinewidth\":0,\"ticks\":\"\"},\"colorscale\":[[0.0,\"#0d0887\"],[0.1111111111111111,\"#46039f\"],[0.2222222222222222,\"#7201a8\"],[0.3333333333333333,\"#9c179e\"],[0.4444444444444444,\"#bd3786\"],[0.5555555555555556,\"#d8576b\"],[0.6666666666666666,\"#ed7953\"],[0.7777777777777778,\"#fb9f3a\"],[0.8888888888888888,\"#fdca26\"],[1.0,\"#f0f921\"]],\"type\":\"contour\"}],\"contourcarpet\":[{\"colorbar\":{\"outlinewidth\":0,\"ticks\":\"\"},\"type\":\"contourcarpet\"}],\"heatmap\":[{\"colorbar\":{\"outlinewidth\":0,\"ticks\":\"\"},\"colorscale\":[[0.0,\"#0d0887\"],[0.1111111111111111,\"#46039f\"],[0.2222222222222222,\"#7201a8\"],[0.3333333333333333,\"#9c179e\"],[0.4444444444444444,\"#bd3786\"],[0.5555555555555556,\"#d8576b\"],[0.6666666666666666,\"#ed7953\"],[0.7777777777777778,\"#fb9f3a\"],[0.8888888888888888,\"#fdca26\"],[1.0,\"#f0f921\"]],\"type\":\"heatmap\"}],\"heatmapgl\":[{\"colorbar\":{\"outlinewidth\":0,\"ticks\":\"\"},\"colorscale\":[[0.0,\"#0d0887\"],[0.1111111111111111,\"#46039f\"],[0.2222222222222222,\"#7201a8\"],[0.3333333333333333,\"#9c179e\"],[0.4444444444444444,\"#bd3786\"],[0.5555555555555556,\"#d8576b\"],[0.6666666666666666,\"#ed7953\"],[0.7777777777777778,\"#fb9f3a\"],[0.8888888888888888,\"#fdca26\"],[1.0,\"#f0f921\"]],\"type\":\"heatmapgl\"}],\"histogram\":[{\"marker\":{\"pattern\":{\"fillmode\":\"overlay\",\"size\":10,\"solidity\":0.2}},\"type\":\"histogram\"}],\"histogram2d\":[{\"colorbar\":{\"outlinewidth\":0,\"ticks\":\"\"},\"colorscale\":[[0.0,\"#0d0887\"],[0.1111111111111111,\"#46039f\"],[0.2222222222222222,\"#7201a8\"],[0.3333333333333333,\"#9c179e\"],[0.4444444444444444,\"#bd3786\"],[0.5555555555555556,\"#d8576b\"],[0.6666666666666666,\"#ed7953\"],[0.7777777777777778,\"#fb9f3a\"],[0.8888888888888888,\"#fdca26\"],[1.0,\"#f0f921\"]],\"type\":\"histogram2d\"}],\"histogram2dcontour\":[{\"colorbar\":{\"outlinewidth\":0,\"ticks\":\"\"},\"colorscale\":[[0.0,\"#0d0887\"],[0.1111111111111111,\"#46039f\"],[0.2222222222222222,\"#7201a8\"],[0.3333333333333333,\"#9c179e\"],[0.4444444444444444,\"#bd3786\"],[0.5555555555555556,\"#d8576b\"],[0.6666666666666666,\"#ed7953\"],[0.7777777777777778,\"#fb9f3a\"],[0.8888888888888888,\"#fdca26\"],[1.0,\"#f0f921\"]],\"type\":\"histogram2dcontour\"}],\"mesh3d\":[{\"colorbar\":{\"outlinewidth\":0,\"ticks\":\"\"},\"type\":\"mesh3d\"}],\"parcoords\":[{\"line\":{\"colorbar\":{\"outlinewidth\":0,\"ticks\":\"\"}},\"type\":\"parcoords\"}],\"pie\":[{\"automargin\":true,\"type\":\"pie\"}],\"scatter\":[{\"marker\":{\"colorbar\":{\"outlinewidth\":0,\"ticks\":\"\"}},\"type\":\"scatter\"}],\"scatter3d\":[{\"line\":{\"colorbar\":{\"outlinewidth\":0,\"ticks\":\"\"}},\"marker\":{\"colorbar\":{\"outlinewidth\":0,\"ticks\":\"\"}},\"type\":\"scatter3d\"}],\"scattercarpet\":[{\"marker\":{\"colorbar\":{\"outlinewidth\":0,\"ticks\":\"\"}},\"type\":\"scattercarpet\"}],\"scattergeo\":[{\"marker\":{\"colorbar\":{\"outlinewidth\":0,\"ticks\":\"\"}},\"type\":\"scattergeo\"}],\"scattergl\":[{\"marker\":{\"colorbar\":{\"outlinewidth\":0,\"ticks\":\"\"}},\"type\":\"scattergl\"}],\"scattermapbox\":[{\"marker\":{\"colorbar\":{\"outlinewidth\":0,\"ticks\":\"\"}},\"type\":\"scattermapbox\"}],\"scatterpolar\":[{\"marker\":{\"colorbar\":{\"outlinewidth\":0,\"ticks\":\"\"}},\"type\":\"scatterpolar\"}],\"scatterpolargl\":[{\"marker\":{\"colorbar\":{\"outlinewidth\":0,\"ticks\":\"\"}},\"type\":\"scatterpolargl\"}],\"scatterternary\":[{\"marker\":{\"colorbar\":{\"outlinewidth\":0,\"ticks\":\"\"}},\"type\":\"scatterternary\"}],\"surface\":[{\"colorbar\":{\"outlinewidth\":0,\"ticks\":\"\"},\"colorscale\":[[0.0,\"#0d0887\"],[0.1111111111111111,\"#46039f\"],[0.2222222222222222,\"#7201a8\"],[0.3333333333333333,\"#9c179e\"],[0.4444444444444444,\"#bd3786\"],[0.5555555555555556,\"#d8576b\"],[0.6666666666666666,\"#ed7953\"],[0.7777777777777778,\"#fb9f3a\"],[0.8888888888888888,\"#fdca26\"],[1.0,\"#f0f921\"]],\"type\":\"surface\"}],\"table\":[{\"cells\":{\"fill\":{\"color\":\"#EBF0F8\"},\"line\":{\"color\":\"white\"}},\"header\":{\"fill\":{\"color\":\"#C8D4E3\"},\"line\":{\"color\":\"white\"}},\"type\":\"table\"}]},\"layout\":{\"annotationdefaults\":{\"arrowcolor\":\"#2a3f5f\",\"arrowhead\":0,\"arrowwidth\":1},\"autotypenumbers\":\"strict\",\"coloraxis\":{\"colorbar\":{\"outlinewidth\":0,\"ticks\":\"\"}},\"colorscale\":{\"diverging\":[[0,\"#8e0152\"],[0.1,\"#c51b7d\"],[0.2,\"#de77ae\"],[0.3,\"#f1b6da\"],[0.4,\"#fde0ef\"],[0.5,\"#f7f7f7\"],[0.6,\"#e6f5d0\"],[0.7,\"#b8e186\"],[0.8,\"#7fbc41\"],[0.9,\"#4d9221\"],[1,\"#276419\"]],\"sequential\":[[0.0,\"#0d0887\"],[0.1111111111111111,\"#46039f\"],[0.2222222222222222,\"#7201a8\"],[0.3333333333333333,\"#9c179e\"],[0.4444444444444444,\"#bd3786\"],[0.5555555555555556,\"#d8576b\"],[0.6666666666666666,\"#ed7953\"],[0.7777777777777778,\"#fb9f3a\"],[0.8888888888888888,\"#fdca26\"],[1.0,\"#f0f921\"]],\"sequentialminus\":[[0.0,\"#0d0887\"],[0.1111111111111111,\"#46039f\"],[0.2222222222222222,\"#7201a8\"],[0.3333333333333333,\"#9c179e\"],[0.4444444444444444,\"#bd3786\"],[0.5555555555555556,\"#d8576b\"],[0.6666666666666666,\"#ed7953\"],[0.7777777777777778,\"#fb9f3a\"],[0.8888888888888888,\"#fdca26\"],[1.0,\"#f0f921\"]]},\"colorway\":[\"#636efa\",\"#EF553B\",\"#00cc96\",\"#ab63fa\",\"#FFA15A\",\"#19d3f3\",\"#FF6692\",\"#B6E880\",\"#FF97FF\",\"#FECB52\"],\"font\":{\"color\":\"#2a3f5f\"},\"geo\":{\"bgcolor\":\"white\",\"lakecolor\":\"white\",\"landcolor\":\"#E5ECF6\",\"showlakes\":true,\"showland\":true,\"subunitcolor\":\"white\"},\"hoverlabel\":{\"align\":\"left\"},\"hovermode\":\"closest\",\"mapbox\":{\"style\":\"light\"},\"paper_bgcolor\":\"white\",\"plot_bgcolor\":\"#E5ECF6\",\"polar\":{\"angularaxis\":{\"gridcolor\":\"white\",\"linecolor\":\"white\",\"ticks\":\"\"},\"bgcolor\":\"#E5ECF6\",\"radialaxis\":{\"gridcolor\":\"white\",\"linecolor\":\"white\",\"ticks\":\"\"}},\"scene\":{\"xaxis\":{\"backgroundcolor\":\"#E5ECF6\",\"gridcolor\":\"white\",\"gridwidth\":2,\"linecolor\":\"white\",\"showbackground\":true,\"ticks\":\"\",\"zerolinecolor\":\"white\"},\"yaxis\":{\"backgroundcolor\":\"#E5ECF6\",\"gridcolor\":\"white\",\"gridwidth\":2,\"linecolor\":\"white\",\"showbackground\":true,\"ticks\":\"\",\"zerolinecolor\":\"white\"},\"zaxis\":{\"backgroundcolor\":\"#E5ECF6\",\"gridcolor\":\"white\",\"gridwidth\":2,\"linecolor\":\"white\",\"showbackground\":true,\"ticks\":\"\",\"zerolinecolor\":\"white\"}},\"shapedefaults\":{\"line\":{\"color\":\"#2a3f5f\"}},\"ternary\":{\"aaxis\":{\"gridcolor\":\"white\",\"linecolor\":\"white\",\"ticks\":\"\"},\"baxis\":{\"gridcolor\":\"white\",\"linecolor\":\"white\",\"ticks\":\"\"},\"bgcolor\":\"#E5ECF6\",\"caxis\":{\"gridcolor\":\"white\",\"linecolor\":\"white\",\"ticks\":\"\"}},\"title\":{\"x\":0.05},\"xaxis\":{\"automargin\":true,\"gridcolor\":\"white\",\"linecolor\":\"white\",\"ticks\":\"\",\"title\":{\"standoff\":15},\"zerolinecolor\":\"white\",\"zerolinewidth\":2},\"yaxis\":{\"automargin\":true,\"gridcolor\":\"white\",\"linecolor\":\"white\",\"ticks\":\"\",\"title\":{\"standoff\":15},\"zerolinecolor\":\"white\",\"zerolinewidth\":2}}}},                        {\"responsive\": true}                    ).then(function(){\n",
              "                            \n",
              "var gd = document.getElementById('33b07ac6-2d86-40b3-802a-7b58a66c9739');\n",
              "var x = new MutationObserver(function (mutations, observer) {{\n",
              "        var display = window.getComputedStyle(gd).display;\n",
              "        if (!display || display === 'none') {{\n",
              "            console.log([gd, 'removed!']);\n",
              "            Plotly.purge(gd);\n",
              "            observer.disconnect();\n",
              "        }}\n",
              "}});\n",
              "\n",
              "// Listen for the removal of the full notebook cells\n",
              "var notebookContainer = gd.closest('#notebook-container');\n",
              "if (notebookContainer) {{\n",
              "    x.observe(notebookContainer, {childList: true});\n",
              "}}\n",
              "\n",
              "// Listen for the clearing of the current output cell\n",
              "var outputEl = gd.closest('.output');\n",
              "if (outputEl) {{\n",
              "    x.observe(outputEl, {childList: true});\n",
              "}}\n",
              "\n",
              "                        })                };                            </script>        </div>\n",
              "</body>\n",
              "</html>"
            ]
          },
          "metadata": {}
        }
      ]
    },
    {
      "cell_type": "markdown",
      "source": [
        "  I.The highest number of movies and tv shows got added in 2019 and 2020.\n",
        "\n",
        "  II.Growth in the number of movies on Netflix is much higher than tv shows"
      ],
      "metadata": {
        "id": "eWj4z-rRXF_W"
      }
    },
    {
      "cell_type": "markdown",
      "source": [
        "### **3. Top 5 Genres for Movies/Shows on Netflix :**"
      ],
      "metadata": {
        "id": "ux5s3otNXPhz"
      }
    },
    {
      "cell_type": "code",
      "source": [
        "# Top 5 Genre :\n",
        "\n",
        "plt.figure(figsize=(18,6))\n",
        "plt.style.use(\"default\")\n",
        "sns.barplot(x = NETFLIX_pk[\"listed_in\"].value_counts().head(16).index,\n",
        "            y = NETFLIX_pk[\"listed_in\"].value_counts().head(16).values,palette=[\"red\"],edgecolor = \"Black\")\n",
        "plt.xticks(rotation=80)\n",
        "plt.title(\"Top5 Genre\",size='20',fontweight=\"bold\")\n",
        "plt.show()"
      ],
      "metadata": {
        "colab": {
          "base_uri": "https://localhost:8080/",
          "height": 637
        },
        "id": "Fnk_ebREXSUp",
        "outputId": "9f4b78a9-1ef3-43c2-cea2-7f73c77d871c"
      },
      "execution_count": 25,
      "outputs": [
        {
          "output_type": "display_data",
          "data": {
            "text/plain": [
              "<Figure size 1296x432 with 1 Axes>"
            ],
            "image/png": "[encoded data removed]"
          },
          "metadata": {
            "needs_background": "light"
          }
        }
      ]
    },
    {
      "cell_type": "markdown",
      "source": [
        "\n",
        "### **4. Top ten countries that produce most of the content :**"
      ],
      "metadata": {
        "id": "YunIWAnLXrCy"
      }
    },
    {
      "cell_type": "code",
      "source": [
        "country_PK=NETFLIX_pk['country'].value_counts().reset_index()\n",
        "country_PK.rename(columns={'index': 'Country_Name'}, inplace=True)\n",
        "country_PK.rename(columns={'Country': 'Count'}, inplace=True)"
      ],
      "metadata": {
        "id": "Ji-FizCYXwYh"
      },
      "execution_count": 27,
      "outputs": []
    },
    {
      "cell_type": "code",
      "source": [
        "plt.figure(figsize=(13,8))\n",
        "plt.title('Top ten countries that produce most of the content')\n",
        "sns.barplot(x='Country_Name',y='country',data=country_PK.head())"
      ],
      "metadata": {
        "colab": {
          "base_uri": "https://localhost:8080/",
          "height": 735
        },
        "id": "GKo7CsRAYDrq",
        "outputId": "0dd72df1-24f3-4193-d502-63a5c6793fa5"
      },
      "execution_count": 28,
      "outputs": [
        {
          "output_type": "execute_result",
          "data": {
            "text/plain": [
              "<matplotlib.axes._subplots.AxesSubplot at 0x7f53db154c50>"
            ]
          },
          "metadata": {},
          "execution_count": 28
        },
        {
          "output_type": "display_data",
          "data": {
            "text/plain": [
              "<Figure size 1300x800 with 1 Axes>"
            ],
            "image/png": "[encoded data removed]"
          },
          "metadata": {}
        }
      ]
    },
    {
      "cell_type": "markdown",
      "source": [
        "### **5.We saw before in which year most of the content was added, but what about the year it released :**\n"
      ],
      "metadata": {
        "id": "FHceXgK1Yh6u"
      }
    },
    {
      "cell_type": "code",
      "execution_count": 30,
      "metadata": {
        "colab": {
          "base_uri": "https://localhost:8080/",
          "height": 143
        },
        "id": "ISGpe4oAO1M9",
        "outputId": "46d0c1d9-c2f2-4a53-c91e-c5e22a80a622"
      },
      "outputs": [
        {
          "output_type": "execute_result",
          "data": {
            "text/plain": [
              "  year_interval  count\n",
              "0  (2010, 2021]   6425\n",
              "1  (1999, 2010]    896\n",
              "2  (1924, 1999]    449"
            ],
            "text/html": [
              "\n",
              "  <div id=\"df-4af7c96d-b196-47a6-806b-732c1ed596ae\">\n",
              "    <div class=\"colab-df-container\">\n",
              "      <div>\n",
              "<style scoped>\n",
              "    .dataframe tbody tr th:only-of-type {\n",
              "        vertical-align: middle;\n",
              "    }\n",
              "\n",
              "    .dataframe tbody tr th {\n",
              "        vertical-align: top;\n",
              "    }\n",
              "\n",
              "    .dataframe thead th {\n",
              "        text-align: right;\n",
              "    }\n",
              "</style>\n",
              "<table border=\"1\" class=\"dataframe\">\n",
              "  <thead>\n",
              "    <tr style=\"text-align: right;\">\n",
              "      <th></th>\n",
              "      <th>year_interval</th>\n",
              "      <th>count</th>\n",
              "    </tr>\n",
              "  </thead>\n",
              "  <tbody>\n",
              "    <tr>\n",
              "      <th>0</th>\n",
              "      <td>(2010, 2021]</td>\n",
              "      <td>6425</td>\n",
              "    </tr>\n",
              "    <tr>\n",
              "      <th>1</th>\n",
              "      <td>(1999, 2010]</td>\n",
              "      <td>896</td>\n",
              "    </tr>\n",
              "    <tr>\n",
              "      <th>2</th>\n",
              "      <td>(1924, 1999]</td>\n",
              "      <td>449</td>\n",
              "    </tr>\n",
              "  </tbody>\n",
              "</table>\n",
              "</div>\n",
              "      <button class=\"colab-df-convert\" onclick=\"convertToInteractive('df-4af7c96d-b196-47a6-806b-732c1ed596ae')\"\n",
              "              title=\"Convert this dataframe to an interactive table.\"\n",
              "              style=\"display:none;\">\n",
              "        \n",
              "  <svg xmlns=\"http://www.w3.org/2000/svg\" height=\"24px\"viewBox=\"0 0 24 24\"\n",
              "       width=\"24px\">\n",
              "    <path d=\"M0 0h24v24H0V0z\" fill=\"none\"/>\n",
              "    <path d=\"M18.56 5.44l.94 2.06.94-2.06 2.06-.94-2.06-.94-.94-2.06-.94 2.06-2.06.94zm-11 1L8.5 8.5l.94-2.06 2.06-.94-2.06-.94L8.5 2.5l-.94 2.06-2.06.94zm10 10l.94 2.06.94-2.06 2.06-.94-2.06-.94-.94-2.06-.94 2.06-2.06.94z\"/><path d=\"M17.41 7.96l-1.37-1.37c-.4-.4-.92-.59-1.43-.59-.52 0-1.04.2-1.43.59L10.3 9.45l-7.72 7.72c-.78.78-.78 2.05 0 2.83L4 21.41c.39.39.9.59 1.41.59.51 0 1.02-.2 1.41-.59l7.78-7.78 2.81-2.81c.8-.78.8-2.07 0-2.86zM5.41 20L4 18.59l7.72-7.72 1.47 1.35L5.41 20z\"/>\n",
              "  </svg>\n",
              "      </button>\n",
              "      \n",
              "  <style>\n",
              "    .colab-df-container {\n",
              "      display:flex;\n",
              "      flex-wrap:wrap;\n",
              "      gap: 12px;\n",
              "    }\n",
              "\n",
              "    .colab-df-convert {\n",
              "      background-color: #E8F0FE;\n",
              "      border: none;\n",
              "      border-radius: 50%;\n",
              "      cursor: pointer;\n",
              "      display: none;\n",
              "      fill: #1967D2;\n",
              "      height: 32px;\n",
              "      padding: 0 0 0 0;\n",
              "      width: 32px;\n",
              "    }\n",
              "\n",
              "    .colab-df-convert:hover {\n",
              "      background-color: #E2EBFA;\n",
              "      box-shadow: 0px 1px 2px rgba(60, 64, 67, 0.3), 0px 1px 3px 1px rgba(60, 64, 67, 0.15);\n",
              "      fill: #174EA6;\n",
              "    }\n",
              "\n",
              "    [theme=dark] .colab-df-convert {\n",
              "      background-color: #3B4455;\n",
              "      fill: #D2E3FC;\n",
              "    }\n",
              "\n",
              "    [theme=dark] .colab-df-convert:hover {\n",
              "      background-color: #434B5C;\n",
              "      box-shadow: 0px 1px 3px 1px rgba(0, 0, 0, 0.15);\n",
              "      filter: drop-shadow(0px 1px 2px rgba(0, 0, 0, 0.3));\n",
              "      fill: #FFFFFF;\n",
              "    }\n",
              "  </style>\n",
              "\n",
              "      <script>\n",
              "        const buttonEl =\n",
              "          document.querySelector('#df-4af7c96d-b196-47a6-806b-732c1ed596ae button.colab-df-convert');\n",
              "        buttonEl.style.display =\n",
              "          google.colab.kernel.accessAllowed ? 'block' : 'none';\n",
              "\n",
              "        async function convertToInteractive(key) {\n",
              "          const element = document.querySelector('#df-4af7c96d-b196-47a6-806b-732c1ed596ae');\n",
              "          const dataTable =\n",
              "            await google.colab.kernel.invokeFunction('convertToInteractive',\n",
              "                                                     [key], {});\n",
              "          if (!dataTable) return;\n",
              "\n",
              "          const docLinkHtml = 'Like what you see? Visit the ' +\n",
              "            '<a target=\"_blank\" href=https://colab.research.google.com/notebooks/data_table.ipynb>data table notebook</a>'\n",
              "            + ' to learn more about interactive tables.';\n",
              "          element.innerHTML = '';\n",
              "          dataTable['output_type'] = 'display_data';\n",
              "          await google.colab.output.renderOutput(dataTable, element);\n",
              "          const docLink = document.createElement('div');\n",
              "          docLink.innerHTML = docLinkHtml;\n",
              "          element.appendChild(docLink);\n",
              "        }\n",
              "      </script>\n",
              "    </div>\n",
              "  </div>\n",
              "  "
            ]
          },
          "metadata": {},
          "execution_count": 30
        }
      ],
      "source": [
        "# Put the data into bins :\n",
        "\n",
        "release_yr_bin = pd.cut(NETFLIX_pk.release_year, [1924, 1999, 2010, 2021])\n",
        "release_yr_bin.value_counts()\n",
        "release_yr_bin = pd.DataFrame(release_yr_bin.value_counts()).reset_index()\n",
        "release_yr_bin.rename(columns={'index':'year_interval', 'release_year':'count'}, inplace=True)\n",
        "release_yr_bin['year_interval'] = release_yr_bin['year_interval'].astype('string')\n",
        "release_yr_bin"
      ]
    },
    {
      "cell_type": "code",
      "source": [
        "# Plot it :\n",
        "\n",
        "fig = px.pie(release_yr_bin, values='count', names='year_interval', color_discrete_sequence=px.colors.sequential.RdBu, title='Most content released.',height=500, width=500)\n",
        "fig.show()"
      ],
      "metadata": {
        "colab": {
          "base_uri": "https://localhost:8080/",
          "height": 517
        },
        "id": "Da1Oz2vNuiYk",
        "outputId": "af51d3f5-bd57-4873-8ea9-692d46f78b6e"
      },
      "execution_count": 31,
      "outputs": [
        {
          "output_type": "display_data",
          "data": {
            "text/html": [
              "<html>\n",
              "<head><meta charset=\"utf-8\" /></head>\n",
              "<body>\n",
              "    <div>            <script src=\"https://cdnjs.cloudflare.com/ajax/libs/mathjax/2.7.5/MathJax.js?config=TeX-AMS-MML_SVG\"></script><script type=\"text/javascript\">if (window.MathJax) {MathJax.Hub.Config({SVG: {font: \"STIX-Web\"}});}</script>                <script type=\"text/javascript\">window.PlotlyConfig = {MathJaxConfig: 'local'};</script>\n",
              "        <script src=\"https://cdn.plot.ly/plotly-2.8.3.min.js\"></script>                <div id=\"b2b9a934-8675-444e-a2d5-f257b4ab5785\" class=\"plotly-graph-div\" style=\"height:500px; width:500px;\"></div>            <script type=\"text/javascript\">                                    window.PLOTLYENV=window.PLOTLYENV || {};                                    if (document.getElementById(\"b2b9a934-8675-444e-a2d5-f257b4ab5785\")) {                    Plotly.newPlot(                        \"b2b9a934-8675-444e-a2d5-f257b4ab5785\",                        [{\"domain\":{\"x\":[0.0,1.0],\"y\":[0.0,1.0]},\"hovertemplate\":\"year_interval=%{label}<br>count=%{value}<extra></extra>\",\"labels\":[\"(2010, 2021]\",\"(1999, 2010]\",\"(1924, 1999]\"],\"legendgroup\":\"\",\"name\":\"\",\"showlegend\":true,\"values\":[6425,896,449],\"type\":\"pie\"}],                        {\"template\":{\"data\":{\"bar\":[{\"error_x\":{\"color\":\"#2a3f5f\"},\"error_y\":{\"color\":\"#2a3f5f\"},\"marker\":{\"line\":{\"color\":\"#E5ECF6\",\"width\":0.5},\"pattern\":{\"fillmode\":\"overlay\",\"size\":10,\"solidity\":0.2}},\"type\":\"bar\"}],\"barpolar\":[{\"marker\":{\"line\":{\"color\":\"#E5ECF6\",\"width\":0.5},\"pattern\":{\"fillmode\":\"overlay\",\"size\":10,\"solidity\":0.2}},\"type\":\"barpolar\"}],\"carpet\":[{\"aaxis\":{\"endlinecolor\":\"#2a3f5f\",\"gridcolor\":\"white\",\"linecolor\":\"white\",\"minorgridcolor\":\"white\",\"startlinecolor\":\"#2a3f5f\"},\"baxis\":{\"endlinecolor\":\"#2a3f5f\",\"gridcolor\":\"white\",\"linecolor\":\"white\",\"minorgridcolor\":\"white\",\"startlinecolor\":\"#2a3f5f\"},\"type\":\"carpet\"}],\"choropleth\":[{\"colorbar\":{\"outlinewidth\":0,\"ticks\":\"\"},\"type\":\"choropleth\"}],\"contour\":[{\"colorbar\":{\"outlinewidth\":0,\"ticks\":\"\"},\"colorscale\":[[0.0,\"#0d0887\"],[0.1111111111111111,\"#46039f\"],[0.2222222222222222,\"#7201a8\"],[0.3333333333333333,\"#9c179e\"],[0.4444444444444444,\"#bd3786\"],[0.5555555555555556,\"#d8576b\"],[0.6666666666666666,\"#ed7953\"],[0.7777777777777778,\"#fb9f3a\"],[0.8888888888888888,\"#fdca26\"],[1.0,\"#f0f921\"]],\"type\":\"contour\"}],\"contourcarpet\":[{\"colorbar\":{\"outlinewidth\":0,\"ticks\":\"\"},\"type\":\"contourcarpet\"}],\"heatmap\":[{\"colorbar\":{\"outlinewidth\":0,\"ticks\":\"\"},\"colorscale\":[[0.0,\"#0d0887\"],[0.1111111111111111,\"#46039f\"],[0.2222222222222222,\"#7201a8\"],[0.3333333333333333,\"#9c179e\"],[0.4444444444444444,\"#bd3786\"],[0.5555555555555556,\"#d8576b\"],[0.6666666666666666,\"#ed7953\"],[0.7777777777777778,\"#fb9f3a\"],[0.8888888888888888,\"#fdca26\"],[1.0,\"#f0f921\"]],\"type\":\"heatmap\"}],\"heatmapgl\":[{\"colorbar\":{\"outlinewidth\":0,\"ticks\":\"\"},\"colorscale\":[[0.0,\"#0d0887\"],[0.1111111111111111,\"#46039f\"],[0.2222222222222222,\"#7201a8\"],[0.3333333333333333,\"#9c179e\"],[0.4444444444444444,\"#bd3786\"],[0.5555555555555556,\"#d8576b\"],[0.6666666666666666,\"#ed7953\"],[0.7777777777777778,\"#fb9f3a\"],[0.8888888888888888,\"#fdca26\"],[1.0,\"#f0f921\"]],\"type\":\"heatmapgl\"}],\"histogram\":[{\"marker\":{\"pattern\":{\"fillmode\":\"overlay\",\"size\":10,\"solidity\":0.2}},\"type\":\"histogram\"}],\"histogram2d\":[{\"colorbar\":{\"outlinewidth\":0,\"ticks\":\"\"},\"colorscale\":[[0.0,\"#0d0887\"],[0.1111111111111111,\"#46039f\"],[0.2222222222222222,\"#7201a8\"],[0.3333333333333333,\"#9c179e\"],[0.4444444444444444,\"#bd3786\"],[0.5555555555555556,\"#d8576b\"],[0.6666666666666666,\"#ed7953\"],[0.7777777777777778,\"#fb9f3a\"],[0.8888888888888888,\"#fdca26\"],[1.0,\"#f0f921\"]],\"type\":\"histogram2d\"}],\"histogram2dcontour\":[{\"colorbar\":{\"outlinewidth\":0,\"ticks\":\"\"},\"colorscale\":[[0.0,\"#0d0887\"],[0.1111111111111111,\"#46039f\"],[0.2222222222222222,\"#7201a8\"],[0.3333333333333333,\"#9c179e\"],[0.4444444444444444,\"#bd3786\"],[0.5555555555555556,\"#d8576b\"],[0.6666666666666666,\"#ed7953\"],[0.7777777777777778,\"#fb9f3a\"],[0.8888888888888888,\"#fdca26\"],[1.0,\"#f0f921\"]],\"type\":\"histogram2dcontour\"}],\"mesh3d\":[{\"colorbar\":{\"outlinewidth\":0,\"ticks\":\"\"},\"type\":\"mesh3d\"}],\"parcoords\":[{\"line\":{\"colorbar\":{\"outlinewidth\":0,\"ticks\":\"\"}},\"type\":\"parcoords\"}],\"pie\":[{\"automargin\":true,\"type\":\"pie\"}],\"scatter\":[{\"marker\":{\"colorbar\":{\"outlinewidth\":0,\"ticks\":\"\"}},\"type\":\"scatter\"}],\"scatter3d\":[{\"line\":{\"colorbar\":{\"outlinewidth\":0,\"ticks\":\"\"}},\"marker\":{\"colorbar\":{\"outlinewidth\":0,\"ticks\":\"\"}},\"type\":\"scatter3d\"}],\"scattercarpet\":[{\"marker\":{\"colorbar\":{\"outlinewidth\":0,\"ticks\":\"\"}},\"type\":\"scattercarpet\"}],\"scattergeo\":[{\"marker\":{\"colorbar\":{\"outlinewidth\":0,\"ticks\":\"\"}},\"type\":\"scattergeo\"}],\"scattergl\":[{\"marker\":{\"colorbar\":{\"outlinewidth\":0,\"ticks\":\"\"}},\"type\":\"scattergl\"}],\"scattermapbox\":[{\"marker\":{\"colorbar\":{\"outlinewidth\":0,\"ticks\":\"\"}},\"type\":\"scattermapbox\"}],\"scatterpolar\":[{\"marker\":{\"colorbar\":{\"outlinewidth\":0,\"ticks\":\"\"}},\"type\":\"scatterpolar\"}],\"scatterpolargl\":[{\"marker\":{\"colorbar\":{\"outlinewidth\":0,\"ticks\":\"\"}},\"type\":\"scatterpolargl\"}],\"scatterternary\":[{\"marker\":{\"colorbar\":{\"outlinewidth\":0,\"ticks\":\"\"}},\"type\":\"scatterternary\"}],\"surface\":[{\"colorbar\":{\"outlinewidth\":0,\"ticks\":\"\"},\"colorscale\":[[0.0,\"#0d0887\"],[0.1111111111111111,\"#46039f\"],[0.2222222222222222,\"#7201a8\"],[0.3333333333333333,\"#9c179e\"],[0.4444444444444444,\"#bd3786\"],[0.5555555555555556,\"#d8576b\"],[0.6666666666666666,\"#ed7953\"],[0.7777777777777778,\"#fb9f3a\"],[0.8888888888888888,\"#fdca26\"],[1.0,\"#f0f921\"]],\"type\":\"surface\"}],\"table\":[{\"cells\":{\"fill\":{\"color\":\"#EBF0F8\"},\"line\":{\"color\":\"white\"}},\"header\":{\"fill\":{\"color\":\"#C8D4E3\"},\"line\":{\"color\":\"white\"}},\"type\":\"table\"}]},\"layout\":{\"annotationdefaults\":{\"arrowcolor\":\"#2a3f5f\",\"arrowhead\":0,\"arrowwidth\":1},\"autotypenumbers\":\"strict\",\"coloraxis\":{\"colorbar\":{\"outlinewidth\":0,\"ticks\":\"\"}},\"colorscale\":{\"diverging\":[[0,\"#8e0152\"],[0.1,\"#c51b7d\"],[0.2,\"#de77ae\"],[0.3,\"#f1b6da\"],[0.4,\"#fde0ef\"],[0.5,\"#f7f7f7\"],[0.6,\"#e6f5d0\"],[0.7,\"#b8e186\"],[0.8,\"#7fbc41\"],[0.9,\"#4d9221\"],[1,\"#276419\"]],\"sequential\":[[0.0,\"#0d0887\"],[0.1111111111111111,\"#46039f\"],[0.2222222222222222,\"#7201a8\"],[0.3333333333333333,\"#9c179e\"],[0.4444444444444444,\"#bd3786\"],[0.5555555555555556,\"#d8576b\"],[0.6666666666666666,\"#ed7953\"],[0.7777777777777778,\"#fb9f3a\"],[0.8888888888888888,\"#fdca26\"],[1.0,\"#f0f921\"]],\"sequentialminus\":[[0.0,\"#0d0887\"],[0.1111111111111111,\"#46039f\"],[0.2222222222222222,\"#7201a8\"],[0.3333333333333333,\"#9c179e\"],[0.4444444444444444,\"#bd3786\"],[0.5555555555555556,\"#d8576b\"],[0.6666666666666666,\"#ed7953\"],[0.7777777777777778,\"#fb9f3a\"],[0.8888888888888888,\"#fdca26\"],[1.0,\"#f0f921\"]]},\"colorway\":[\"#636efa\",\"#EF553B\",\"#00cc96\",\"#ab63fa\",\"#FFA15A\",\"#19d3f3\",\"#FF6692\",\"#B6E880\",\"#FF97FF\",\"#FECB52\"],\"font\":{\"color\":\"#2a3f5f\"},\"geo\":{\"bgcolor\":\"white\",\"lakecolor\":\"white\",\"landcolor\":\"#E5ECF6\",\"showlakes\":true,\"showland\":true,\"subunitcolor\":\"white\"},\"hoverlabel\":{\"align\":\"left\"},\"hovermode\":\"closest\",\"mapbox\":{\"style\":\"light\"},\"paper_bgcolor\":\"white\",\"plot_bgcolor\":\"#E5ECF6\",\"polar\":{\"angularaxis\":{\"gridcolor\":\"white\",\"linecolor\":\"white\",\"ticks\":\"\"},\"bgcolor\":\"#E5ECF6\",\"radialaxis\":{\"gridcolor\":\"white\",\"linecolor\":\"white\",\"ticks\":\"\"}},\"scene\":{\"xaxis\":{\"backgroundcolor\":\"#E5ECF6\",\"gridcolor\":\"white\",\"gridwidth\":2,\"linecolor\":\"white\",\"showbackground\":true,\"ticks\":\"\",\"zerolinecolor\":\"white\"},\"yaxis\":{\"backgroundcolor\":\"#E5ECF6\",\"gridcolor\":\"white\",\"gridwidth\":2,\"linecolor\":\"white\",\"showbackground\":true,\"ticks\":\"\",\"zerolinecolor\":\"white\"},\"zaxis\":{\"backgroundcolor\":\"#E5ECF6\",\"gridcolor\":\"white\",\"gridwidth\":2,\"linecolor\":\"white\",\"showbackground\":true,\"ticks\":\"\",\"zerolinecolor\":\"white\"}},\"shapedefaults\":{\"line\":{\"color\":\"#2a3f5f\"}},\"ternary\":{\"aaxis\":{\"gridcolor\":\"white\",\"linecolor\":\"white\",\"ticks\":\"\"},\"baxis\":{\"gridcolor\":\"white\",\"linecolor\":\"white\",\"ticks\":\"\"},\"bgcolor\":\"#E5ECF6\",\"caxis\":{\"gridcolor\":\"white\",\"linecolor\":\"white\",\"ticks\":\"\"}},\"title\":{\"x\":0.05},\"xaxis\":{\"automargin\":true,\"gridcolor\":\"white\",\"linecolor\":\"white\",\"ticks\":\"\",\"title\":{\"standoff\":15},\"zerolinecolor\":\"white\",\"zerolinewidth\":2},\"yaxis\":{\"automargin\":true,\"gridcolor\":\"white\",\"linecolor\":\"white\",\"ticks\":\"\",\"title\":{\"standoff\":15},\"zerolinecolor\":\"white\",\"zerolinewidth\":2}}},\"legend\":{\"tracegroupgap\":0},\"title\":{\"text\":\"Most content released.\"},\"piecolorway\":[\"rgb(103,0,31)\",\"rgb(178,24,43)\",\"rgb(214,96,77)\",\"rgb(244,165,130)\",\"rgb(253,219,199)\",\"rgb(247,247,247)\",\"rgb(209,229,240)\",\"rgb(146,197,222)\",\"rgb(67,147,195)\",\"rgb(33,102,172)\",\"rgb(5,48,97)\"],\"height\":500,\"width\":500},                        {\"responsive\": true}                    ).then(function(){\n",
              "                            \n",
              "var gd = document.getElementById('b2b9a934-8675-444e-a2d5-f257b4ab5785');\n",
              "var x = new MutationObserver(function (mutations, observer) {{\n",
              "        var display = window.getComputedStyle(gd).display;\n",
              "        if (!display || display === 'none') {{\n",
              "            console.log([gd, 'removed!']);\n",
              "            Plotly.purge(gd);\n",
              "            observer.disconnect();\n",
              "        }}\n",
              "}});\n",
              "\n",
              "// Listen for the removal of the full notebook cells\n",
              "var notebookContainer = gd.closest('#notebook-container');\n",
              "if (notebookContainer) {{\n",
              "    x.observe(notebookContainer, {childList: true});\n",
              "}}\n",
              "\n",
              "// Listen for the clearing of the current output cell\n",
              "var outputEl = gd.closest('.output');\n",
              "if (outputEl) {{\n",
              "    x.observe(outputEl, {childList: true});\n",
              "}}\n",
              "\n",
              "                        })                };                            </script>        </div>\n",
              "</body>\n",
              "</html>"
            ]
          },
          "metadata": {}
        }
      ]
    },
    {
      "cell_type": "markdown",
      "source": [
        "### **6. Actore cast in movies/shows :**"
      ],
      "metadata": {
        "id": "M0tdRhc2wAKl"
      }
    },
    {
      "cell_type": "code",
      "source": [
        "# Create a list of all the actors in the data :\n",
        "\n",
        "def data2list(data):\n",
        "\n",
        "# dict to store the count for each actor :\n",
        "  actor_list = {} \n",
        "\n",
        "# list to store all the names :  \n",
        "  temp_list = []   \n",
        "  \n",
        "# define the data we intend to use :\n",
        "  cast_list = list(data['cast'])  \n",
        "  for i in range(len(cast_list)):\n",
        "    temp_list.extend(str(cast_list[i]).split(','))\n",
        "  for i in temp_list:\n",
        "    if i not in actor_list:\n",
        "      actor_list[i] = temp_list.count(i)\n",
        "  return actor_list"
      ],
      "metadata": {
        "id": "Y_pRIozjwgwg"
      },
      "execution_count": 32,
      "outputs": []
    },
    {
      "cell_type": "code",
      "source": [
        "# Create dataframe for list of actors :\n",
        "\n",
        "actor_list = pd.DataFrame([data2list(NETFLIX_pk)]).T.reset_index()\n",
        "\n",
        "\n",
        "# dropped the nan values in the dataframe which was present at 106th index :\n",
        "\n",
        "actor_list = actor_list.sort_values(0, ascending=False).drop(106)  "
      ],
      "metadata": {
        "id": "16dB7-jMxZNZ"
      },
      "execution_count": 33,
      "outputs": []
    },
    {
      "cell_type": "code",
      "source": [
        "actor_list.head(10)"
      ],
      "metadata": {
        "colab": {
          "base_uri": "https://localhost:8080/",
          "height": 363
        },
        "id": "ZL8TCguoxw_Z",
        "outputId": "de2a4317-e571-4f3f-e9d9-2a8a6cdb9ce4"
      },
      "execution_count": 34,
      "outputs": [
        {
          "output_type": "execute_result",
          "data": {
            "text/plain": [
              "                  index   0\n",
              "1294        Anupam Kher  38\n",
              "194    Takahiro Sakurai  28\n",
              "2203            Om Puri  27\n",
              "4039     Shah Rukh Khan  27\n",
              "740         Boman Irani  25\n",
              "2506       Paresh Rawal  24\n",
              "8462      Andrea Libman  24\n",
              "4368          Yuki Kaji  23\n",
              "4994       Vincent Tong  22\n",
              "2201       Akshay Kumar  22"
            ],
            "text/html": [
              "\n",
              "  <div id=\"df-53d78fcb-b5fc-4d93-af64-e6ed72de3207\">\n",
              "    <div class=\"colab-df-container\">\n",
              "      <div>\n",
              "<style scoped>\n",
              "    .dataframe tbody tr th:only-of-type {\n",
              "        vertical-align: middle;\n",
              "    }\n",
              "\n",
              "    .dataframe tbody tr th {\n",
              "        vertical-align: top;\n",
              "    }\n",
              "\n",
              "    .dataframe thead th {\n",
              "        text-align: right;\n",
              "    }\n",
              "</style>\n",
              "<table border=\"1\" class=\"dataframe\">\n",
              "  <thead>\n",
              "    <tr style=\"text-align: right;\">\n",
              "      <th></th>\n",
              "      <th>index</th>\n",
              "      <th>0</th>\n",
              "    </tr>\n",
              "  </thead>\n",
              "  <tbody>\n",
              "    <tr>\n",
              "      <th>1294</th>\n",
              "      <td>Anupam Kher</td>\n",
              "      <td>38</td>\n",
              "    </tr>\n",
              "    <tr>\n",
              "      <th>194</th>\n",
              "      <td>Takahiro Sakurai</td>\n",
              "      <td>28</td>\n",
              "    </tr>\n",
              "    <tr>\n",
              "      <th>2203</th>\n",
              "      <td>Om Puri</td>\n",
              "      <td>27</td>\n",
              "    </tr>\n",
              "    <tr>\n",
              "      <th>4039</th>\n",
              "      <td>Shah Rukh Khan</td>\n",
              "      <td>27</td>\n",
              "    </tr>\n",
              "    <tr>\n",
              "      <th>740</th>\n",
              "      <td>Boman Irani</td>\n",
              "      <td>25</td>\n",
              "    </tr>\n",
              "    <tr>\n",
              "      <th>2506</th>\n",
              "      <td>Paresh Rawal</td>\n",
              "      <td>24</td>\n",
              "    </tr>\n",
              "    <tr>\n",
              "      <th>8462</th>\n",
              "      <td>Andrea Libman</td>\n",
              "      <td>24</td>\n",
              "    </tr>\n",
              "    <tr>\n",
              "      <th>4368</th>\n",
              "      <td>Yuki Kaji</td>\n",
              "      <td>23</td>\n",
              "    </tr>\n",
              "    <tr>\n",
              "      <th>4994</th>\n",
              "      <td>Vincent Tong</td>\n",
              "      <td>22</td>\n",
              "    </tr>\n",
              "    <tr>\n",
              "      <th>2201</th>\n",
              "      <td>Akshay Kumar</td>\n",
              "      <td>22</td>\n",
              "    </tr>\n",
              "  </tbody>\n",
              "</table>\n",
              "</div>\n",
              "      <button class=\"colab-df-convert\" onclick=\"convertToInteractive('df-53d78fcb-b5fc-4d93-af64-e6ed72de3207')\"\n",
              "              title=\"Convert this dataframe to an interactive table.\"\n",
              "              style=\"display:none;\">\n",
              "        \n",
              "  <svg xmlns=\"http://www.w3.org/2000/svg\" height=\"24px\"viewBox=\"0 0 24 24\"\n",
              "       width=\"24px\">\n",
              "    <path d=\"M0 0h24v24H0V0z\" fill=\"none\"/>\n",
              "    <path d=\"M18.56 5.44l.94 2.06.94-2.06 2.06-.94-2.06-.94-.94-2.06-.94 2.06-2.06.94zm-11 1L8.5 8.5l.94-2.06 2.06-.94-2.06-.94L8.5 2.5l-.94 2.06-2.06.94zm10 10l.94 2.06.94-2.06 2.06-.94-2.06-.94-.94-2.06-.94 2.06-2.06.94z\"/><path d=\"M17.41 7.96l-1.37-1.37c-.4-.4-.92-.59-1.43-.59-.52 0-1.04.2-1.43.59L10.3 9.45l-7.72 7.72c-.78.78-.78 2.05 0 2.83L4 21.41c.39.39.9.59 1.41.59.51 0 1.02-.2 1.41-.59l7.78-7.78 2.81-2.81c.8-.78.8-2.07 0-2.86zM5.41 20L4 18.59l7.72-7.72 1.47 1.35L5.41 20z\"/>\n",
              "  </svg>\n",
              "      </button>\n",
              "      \n",
              "  <style>\n",
              "    .colab-df-container {\n",
              "      display:flex;\n",
              "      flex-wrap:wrap;\n",
              "      gap: 12px;\n",
              "    }\n",
              "\n",
              "    .colab-df-convert {\n",
              "      background-color: #E8F0FE;\n",
              "      border: none;\n",
              "      border-radius: 50%;\n",
              "      cursor: pointer;\n",
              "      display: none;\n",
              "      fill: #1967D2;\n",
              "      height: 32px;\n",
              "      padding: 0 0 0 0;\n",
              "      width: 32px;\n",
              "    }\n",
              "\n",
              "    .colab-df-convert:hover {\n",
              "      background-color: #E2EBFA;\n",
              "      box-shadow: 0px 1px 2px rgba(60, 64, 67, 0.3), 0px 1px 3px 1px rgba(60, 64, 67, 0.15);\n",
              "      fill: #174EA6;\n",
              "    }\n",
              "\n",
              "    [theme=dark] .colab-df-convert {\n",
              "      background-color: #3B4455;\n",
              "      fill: #D2E3FC;\n",
              "    }\n",
              "\n",
              "    [theme=dark] .colab-df-convert:hover {\n",
              "      background-color: #434B5C;\n",
              "      box-shadow: 0px 1px 3px 1px rgba(0, 0, 0, 0.15);\n",
              "      filter: drop-shadow(0px 1px 2px rgba(0, 0, 0, 0.3));\n",
              "      fill: #FFFFFF;\n",
              "    }\n",
              "  </style>\n",
              "\n",
              "      <script>\n",
              "        const buttonEl =\n",
              "          document.querySelector('#df-53d78fcb-b5fc-4d93-af64-e6ed72de3207 button.colab-df-convert');\n",
              "        buttonEl.style.display =\n",
              "          google.colab.kernel.accessAllowed ? 'block' : 'none';\n",
              "\n",
              "        async function convertToInteractive(key) {\n",
              "          const element = document.querySelector('#df-53d78fcb-b5fc-4d93-af64-e6ed72de3207');\n",
              "          const dataTable =\n",
              "            await google.colab.kernel.invokeFunction('convertToInteractive',\n",
              "                                                     [key], {});\n",
              "          if (!dataTable) return;\n",
              "\n",
              "          const docLinkHtml = 'Like what you see? Visit the ' +\n",
              "            '<a target=\"_blank\" href=https://colab.research.google.com/notebooks/data_table.ipynb>data table notebook</a>'\n",
              "            + ' to learn more about interactive tables.';\n",
              "          element.innerHTML = '';\n",
              "          dataTable['output_type'] = 'display_data';\n",
              "          await google.colab.output.renderOutput(dataTable, element);\n",
              "          const docLink = document.createElement('div');\n",
              "          docLink.innerHTML = docLinkHtml;\n",
              "          element.appendChild(docLink);\n",
              "        }\n",
              "      </script>\n",
              "    </div>\n",
              "  </div>\n",
              "  "
            ]
          },
          "metadata": {},
          "execution_count": 34
        }
      ]
    },
    {
      "cell_type": "code",
      "source": [
        "# Plot it :\n",
        "\n",
        "top_10_actors = actor_list.head(10)\n",
        "top_10_actors.rename(columns={'index':'Actors name', 0:'Count'}, inplace=True)\n",
        "\n",
        "fig = px.bar(top_10_actors, x='Actors name', y='Count', text_auto=True,\n",
        "             color='Count', color_continuous_scale=['#564d4d', '#db0000'])\n",
        "\n",
        "fig.update_traces(textangle=0, cliponaxis=False)\n",
        "fig.update_layout(\n",
        "    title={\n",
        "        'text': 'Actors with most content on platform.',\n",
        "        'y':0.95,\n",
        "        'x':0.5,\n",
        "        'xanchor': 'center',\n",
        "        'yanchor': 'top'},\n",
        "        autosize=False,\n",
        "        width=1200,\n",
        "        height=500)\n",
        "fig.show()"
      ],
      "metadata": {
        "colab": {
          "base_uri": "https://localhost:8080/",
          "height": 517
        },
        "id": "envZqs9Dx3Do",
        "outputId": "bbec4417-f602-4377-d74a-9bc5a550bbdb"
      },
      "execution_count": 35,
      "outputs": [
        {
          "output_type": "display_data",
          "data": {
            "text/html": [
              "<html>\n",
              "<head><meta charset=\"utf-8\" /></head>\n",
              "<body>\n",
              "    <div>            <script src=\"https://cdnjs.cloudflare.com/ajax/libs/mathjax/2.7.5/MathJax.js?config=TeX-AMS-MML_SVG\"></script><script type=\"text/javascript\">if (window.MathJax) {MathJax.Hub.Config({SVG: {font: \"STIX-Web\"}});}</script>                <script type=\"text/javascript\">window.PlotlyConfig = {MathJaxConfig: 'local'};</script>\n",
              "        <script src=\"https://cdn.plot.ly/plotly-2.8.3.min.js\"></script>                <div id=\"5668ba93-62f0-4def-9432-e2d2556eea0e\" class=\"plotly-graph-div\" style=\"height:500px; width:1200px;\"></div>            <script type=\"text/javascript\">                                    window.PLOTLYENV=window.PLOTLYENV || {};                                    if (document.getElementById(\"5668ba93-62f0-4def-9432-e2d2556eea0e\")) {                    Plotly.newPlot(                        \"5668ba93-62f0-4def-9432-e2d2556eea0e\",                        [{\"alignmentgroup\":\"True\",\"hovertemplate\":\"Actors name=%{x}<br>Count=%{marker.color}<extra></extra>\",\"legendgroup\":\"\",\"marker\":{\"color\":[38,28,27,27,25,24,24,23,22,22],\"coloraxis\":\"coloraxis\",\"pattern\":{\"shape\":\"\"}},\"name\":\"\",\"offsetgroup\":\"\",\"orientation\":\"v\",\"showlegend\":false,\"textposition\":\"auto\",\"texttemplate\":\"%{y}\",\"x\":[\" Anupam Kher\",\" Takahiro Sakurai\",\" Om Puri\",\"Shah Rukh Khan\",\" Boman Irani\",\" Paresh Rawal\",\" Andrea Libman\",\" Yuki Kaji\",\" Vincent Tong\",\"Akshay Kumar\"],\"xaxis\":\"x\",\"y\":[38,28,27,27,25,24,24,23,22,22],\"yaxis\":\"y\",\"type\":\"bar\",\"cliponaxis\":false,\"textangle\":0}],                        {\"template\":{\"data\":{\"bar\":[{\"error_x\":{\"color\":\"#2a3f5f\"},\"error_y\":{\"color\":\"#2a3f5f\"},\"marker\":{\"line\":{\"color\":\"#E5ECF6\",\"width\":0.5},\"pattern\":{\"fillmode\":\"overlay\",\"size\":10,\"solidity\":0.2}},\"type\":\"bar\"}],\"barpolar\":[{\"marker\":{\"line\":{\"color\":\"#E5ECF6\",\"width\":0.5},\"pattern\":{\"fillmode\":\"overlay\",\"size\":10,\"solidity\":0.2}},\"type\":\"barpolar\"}],\"carpet\":[{\"aaxis\":{\"endlinecolor\":\"#2a3f5f\",\"gridcolor\":\"white\",\"linecolor\":\"white\",\"minorgridcolor\":\"white\",\"startlinecolor\":\"#2a3f5f\"},\"baxis\":{\"endlinecolor\":\"#2a3f5f\",\"gridcolor\":\"white\",\"linecolor\":\"white\",\"minorgridcolor\":\"white\",\"startlinecolor\":\"#2a3f5f\"},\"type\":\"carpet\"}],\"choropleth\":[{\"colorbar\":{\"outlinewidth\":0,\"ticks\":\"\"},\"type\":\"choropleth\"}],\"contour\":[{\"colorbar\":{\"outlinewidth\":0,\"ticks\":\"\"},\"colorscale\":[[0.0,\"#0d0887\"],[0.1111111111111111,\"#46039f\"],[0.2222222222222222,\"#7201a8\"],[0.3333333333333333,\"#9c179e\"],[0.4444444444444444,\"#bd3786\"],[0.5555555555555556,\"#d8576b\"],[0.6666666666666666,\"#ed7953\"],[0.7777777777777778,\"#fb9f3a\"],[0.8888888888888888,\"#fdca26\"],[1.0,\"#f0f921\"]],\"type\":\"contour\"}],\"contourcarpet\":[{\"colorbar\":{\"outlinewidth\":0,\"ticks\":\"\"},\"type\":\"contourcarpet\"}],\"heatmap\":[{\"colorbar\":{\"outlinewidth\":0,\"ticks\":\"\"},\"colorscale\":[[0.0,\"#0d0887\"],[0.1111111111111111,\"#46039f\"],[0.2222222222222222,\"#7201a8\"],[0.3333333333333333,\"#9c179e\"],[0.4444444444444444,\"#bd3786\"],[0.5555555555555556,\"#d8576b\"],[0.6666666666666666,\"#ed7953\"],[0.7777777777777778,\"#fb9f3a\"],[0.8888888888888888,\"#fdca26\"],[1.0,\"#f0f921\"]],\"type\":\"heatmap\"}],\"heatmapgl\":[{\"colorbar\":{\"outlinewidth\":0,\"ticks\":\"\"},\"colorscale\":[[0.0,\"#0d0887\"],[0.1111111111111111,\"#46039f\"],[0.2222222222222222,\"#7201a8\"],[0.3333333333333333,\"#9c179e\"],[0.4444444444444444,\"#bd3786\"],[0.5555555555555556,\"#d8576b\"],[0.6666666666666666,\"#ed7953\"],[0.7777777777777778,\"#fb9f3a\"],[0.8888888888888888,\"#fdca26\"],[1.0,\"#f0f921\"]],\"type\":\"heatmapgl\"}],\"histogram\":[{\"marker\":{\"pattern\":{\"fillmode\":\"overlay\",\"size\":10,\"solidity\":0.2}},\"type\":\"histogram\"}],\"histogram2d\":[{\"colorbar\":{\"outlinewidth\":0,\"ticks\":\"\"},\"colorscale\":[[0.0,\"#0d0887\"],[0.1111111111111111,\"#46039f\"],[0.2222222222222222,\"#7201a8\"],[0.3333333333333333,\"#9c179e\"],[0.4444444444444444,\"#bd3786\"],[0.5555555555555556,\"#d8576b\"],[0.6666666666666666,\"#ed7953\"],[0.7777777777777778,\"#fb9f3a\"],[0.8888888888888888,\"#fdca26\"],[1.0,\"#f0f921\"]],\"type\":\"histogram2d\"}],\"histogram2dcontour\":[{\"colorbar\":{\"outlinewidth\":0,\"ticks\":\"\"},\"colorscale\":[[0.0,\"#0d0887\"],[0.1111111111111111,\"#46039f\"],[0.2222222222222222,\"#7201a8\"],[0.3333333333333333,\"#9c179e\"],[0.4444444444444444,\"#bd3786\"],[0.5555555555555556,\"#d8576b\"],[0.6666666666666666,\"#ed7953\"],[0.7777777777777778,\"#fb9f3a\"],[0.8888888888888888,\"#fdca26\"],[1.0,\"#f0f921\"]],\"type\":\"histogram2dcontour\"}],\"mesh3d\":[{\"colorbar\":{\"outlinewidth\":0,\"ticks\":\"\"},\"type\":\"mesh3d\"}],\"parcoords\":[{\"line\":{\"colorbar\":{\"outlinewidth\":0,\"ticks\":\"\"}},\"type\":\"parcoords\"}],\"pie\":[{\"automargin\":true,\"type\":\"pie\"}],\"scatter\":[{\"marker\":{\"colorbar\":{\"outlinewidth\":0,\"ticks\":\"\"}},\"type\":\"scatter\"}],\"scatter3d\":[{\"line\":{\"colorbar\":{\"outlinewidth\":0,\"ticks\":\"\"}},\"marker\":{\"colorbar\":{\"outlinewidth\":0,\"ticks\":\"\"}},\"type\":\"scatter3d\"}],\"scattercarpet\":[{\"marker\":{\"colorbar\":{\"outlinewidth\":0,\"ticks\":\"\"}},\"type\":\"scattercarpet\"}],\"scattergeo\":[{\"marker\":{\"colorbar\":{\"outlinewidth\":0,\"ticks\":\"\"}},\"type\":\"scattergeo\"}],\"scattergl\":[{\"marker\":{\"colorbar\":{\"outlinewidth\":0,\"ticks\":\"\"}},\"type\":\"scattergl\"}],\"scattermapbox\":[{\"marker\":{\"colorbar\":{\"outlinewidth\":0,\"ticks\":\"\"}},\"type\":\"scattermapbox\"}],\"scatterpolar\":[{\"marker\":{\"colorbar\":{\"outlinewidth\":0,\"ticks\":\"\"}},\"type\":\"scatterpolar\"}],\"scatterpolargl\":[{\"marker\":{\"colorbar\":{\"outlinewidth\":0,\"ticks\":\"\"}},\"type\":\"scatterpolargl\"}],\"scatterternary\":[{\"marker\":{\"colorbar\":{\"outlinewidth\":0,\"ticks\":\"\"}},\"type\":\"scatterternary\"}],\"surface\":[{\"colorbar\":{\"outlinewidth\":0,\"ticks\":\"\"},\"colorscale\":[[0.0,\"#0d0887\"],[0.1111111111111111,\"#46039f\"],[0.2222222222222222,\"#7201a8\"],[0.3333333333333333,\"#9c179e\"],[0.4444444444444444,\"#bd3786\"],[0.5555555555555556,\"#d8576b\"],[0.6666666666666666,\"#ed7953\"],[0.7777777777777778,\"#fb9f3a\"],[0.8888888888888888,\"#fdca26\"],[1.0,\"#f0f921\"]],\"type\":\"surface\"}],\"table\":[{\"cells\":{\"fill\":{\"color\":\"#EBF0F8\"},\"line\":{\"color\":\"white\"}},\"header\":{\"fill\":{\"color\":\"#C8D4E3\"},\"line\":{\"color\":\"white\"}},\"type\":\"table\"}]},\"layout\":{\"annotationdefaults\":{\"arrowcolor\":\"#2a3f5f\",\"arrowhead\":0,\"arrowwidth\":1},\"autotypenumbers\":\"strict\",\"coloraxis\":{\"colorbar\":{\"outlinewidth\":0,\"ticks\":\"\"}},\"colorscale\":{\"diverging\":[[0,\"#8e0152\"],[0.1,\"#c51b7d\"],[0.2,\"#de77ae\"],[0.3,\"#f1b6da\"],[0.4,\"#fde0ef\"],[0.5,\"#f7f7f7\"],[0.6,\"#e6f5d0\"],[0.7,\"#b8e186\"],[0.8,\"#7fbc41\"],[0.9,\"#4d9221\"],[1,\"#276419\"]],\"sequential\":[[0.0,\"#0d0887\"],[0.1111111111111111,\"#46039f\"],[0.2222222222222222,\"#7201a8\"],[0.3333333333333333,\"#9c179e\"],[0.4444444444444444,\"#bd3786\"],[0.5555555555555556,\"#d8576b\"],[0.6666666666666666,\"#ed7953\"],[0.7777777777777778,\"#fb9f3a\"],[0.8888888888888888,\"#fdca26\"],[1.0,\"#f0f921\"]],\"sequentialminus\":[[0.0,\"#0d0887\"],[0.1111111111111111,\"#46039f\"],[0.2222222222222222,\"#7201a8\"],[0.3333333333333333,\"#9c179e\"],[0.4444444444444444,\"#bd3786\"],[0.5555555555555556,\"#d8576b\"],[0.6666666666666666,\"#ed7953\"],[0.7777777777777778,\"#fb9f3a\"],[0.8888888888888888,\"#fdca26\"],[1.0,\"#f0f921\"]]},\"colorway\":[\"#636efa\",\"#EF553B\",\"#00cc96\",\"#ab63fa\",\"#FFA15A\",\"#19d3f3\",\"#FF6692\",\"#B6E880\",\"#FF97FF\",\"#FECB52\"],\"font\":{\"color\":\"#2a3f5f\"},\"geo\":{\"bgcolor\":\"white\",\"lakecolor\":\"white\",\"landcolor\":\"#E5ECF6\",\"showlakes\":true,\"showland\":true,\"subunitcolor\":\"white\"},\"hoverlabel\":{\"align\":\"left\"},\"hovermode\":\"closest\",\"mapbox\":{\"style\":\"light\"},\"paper_bgcolor\":\"white\",\"plot_bgcolor\":\"#E5ECF6\",\"polar\":{\"angularaxis\":{\"gridcolor\":\"white\",\"linecolor\":\"white\",\"ticks\":\"\"},\"bgcolor\":\"#E5ECF6\",\"radialaxis\":{\"gridcolor\":\"white\",\"linecolor\":\"white\",\"ticks\":\"\"}},\"scene\":{\"xaxis\":{\"backgroundcolor\":\"#E5ECF6\",\"gridcolor\":\"white\",\"gridwidth\":2,\"linecolor\":\"white\",\"showbackground\":true,\"ticks\":\"\",\"zerolinecolor\":\"white\"},\"yaxis\":{\"backgroundcolor\":\"#E5ECF6\",\"gridcolor\":\"white\",\"gridwidth\":2,\"linecolor\":\"white\",\"showbackground\":true,\"ticks\":\"\",\"zerolinecolor\":\"white\"},\"zaxis\":{\"backgroundcolor\":\"#E5ECF6\",\"gridcolor\":\"white\",\"gridwidth\":2,\"linecolor\":\"white\",\"showbackground\":true,\"ticks\":\"\",\"zerolinecolor\":\"white\"}},\"shapedefaults\":{\"line\":{\"color\":\"#2a3f5f\"}},\"ternary\":{\"aaxis\":{\"gridcolor\":\"white\",\"linecolor\":\"white\",\"ticks\":\"\"},\"baxis\":{\"gridcolor\":\"white\",\"linecolor\":\"white\",\"ticks\":\"\"},\"bgcolor\":\"#E5ECF6\",\"caxis\":{\"gridcolor\":\"white\",\"linecolor\":\"white\",\"ticks\":\"\"}},\"title\":{\"x\":0.05},\"xaxis\":{\"automargin\":true,\"gridcolor\":\"white\",\"linecolor\":\"white\",\"ticks\":\"\",\"title\":{\"standoff\":15},\"zerolinecolor\":\"white\",\"zerolinewidth\":2},\"yaxis\":{\"automargin\":true,\"gridcolor\":\"white\",\"linecolor\":\"white\",\"ticks\":\"\",\"title\":{\"standoff\":15},\"zerolinecolor\":\"white\",\"zerolinewidth\":2}}},\"xaxis\":{\"anchor\":\"y\",\"domain\":[0.0,1.0],\"title\":{\"text\":\"Actors name\"}},\"yaxis\":{\"anchor\":\"x\",\"domain\":[0.0,1.0],\"title\":{\"text\":\"Count\"}},\"coloraxis\":{\"colorbar\":{\"title\":{\"text\":\"Count\"}},\"colorscale\":[[0.0,\"#564d4d\"],[1.0,\"#db0000\"]]},\"legend\":{\"tracegroupgap\":0},\"margin\":{\"t\":60},\"barmode\":\"relative\",\"title\":{\"text\":\"Actors with most content on platform.\",\"y\":0.95,\"x\":0.5,\"xanchor\":\"center\",\"yanchor\":\"top\"},\"autosize\":false,\"width\":1200,\"height\":500},                        {\"responsive\": true}                    ).then(function(){\n",
              "                            \n",
              "var gd = document.getElementById('5668ba93-62f0-4def-9432-e2d2556eea0e');\n",
              "var x = new MutationObserver(function (mutations, observer) {{\n",
              "        var display = window.getComputedStyle(gd).display;\n",
              "        if (!display || display === 'none') {{\n",
              "            console.log([gd, 'removed!']);\n",
              "            Plotly.purge(gd);\n",
              "            observer.disconnect();\n",
              "        }}\n",
              "}});\n",
              "\n",
              "// Listen for the removal of the full notebook cells\n",
              "var notebookContainer = gd.closest('#notebook-container');\n",
              "if (notebookContainer) {{\n",
              "    x.observe(notebookContainer, {childList: true});\n",
              "}}\n",
              "\n",
              "// Listen for the clearing of the current output cell\n",
              "var outputEl = gd.closest('.output');\n",
              "if (outputEl) {{\n",
              "    x.observe(outputEl, {childList: true});\n",
              "}}\n",
              "\n",
              "                        })                };                            </script>        </div>\n",
              "</body>\n",
              "</html>"
            ]
          },
          "metadata": {}
        }
      ]
    },
    {
      "cell_type": "markdown",
      "source": [
        "### **7. What kind of content is available in different countries in recent years?**\n"
      ],
      "metadata": {
        "id": "ZLPm0up9yDUp"
      }
    },
    {
      "cell_type": "code",
      "source": [
        "NETFLIX_pk['country'].fillna('United States', inplace=True)\n",
        "NETFLIX_pk['country_single'] = NETFLIX_pk['country'].apply(lambda x: x.split(\",\")[0])\n",
        "country_order = NETFLIX_pk['country_single'].value_counts()[:10].index\n",
        "countryVScontent = NETFLIX_pk[['type', 'country_single']].groupby('country_single')['type'].value_counts().unstack().loc[country_order].reset_index()\n",
        "countryVScontent"
      ],
      "metadata": {
        "colab": {
          "base_uri": "https://localhost:8080/",
          "height": 363
        },
        "id": "yetXJ0rnyIJ-",
        "outputId": "6117281d-f409-47ef-f1d9-0e77649375d0"
      },
      "execution_count": 36,
      "outputs": [
        {
          "output_type": "execute_result",
          "data": {
            "text/plain": [
              "type           index   Movie  TV Show\n",
              "0      United States  2097.0    777.0\n",
              "1              India   883.0     73.0\n",
              "2     United Kingdom   341.0    235.0\n",
              "3         No Country   229.0    276.0\n",
              "4             Canada   175.0     84.0\n",
              "5              Japan    75.0    160.0\n",
              "6             France   137.0     59.0\n",
              "7        South Korea    42.0    152.0\n",
              "8              Spain   119.0     49.0\n",
              "9             Mexico    79.0     44.0"
            ],
            "text/html": [
              "\n",
              "  <div id=\"df-bb6145bc-cfde-456f-b763-19cd4ae6fbd4\">\n",
              "    <div class=\"colab-df-container\">\n",
              "      <div>\n",
              "<style scoped>\n",
              "    .dataframe tbody tr th:only-of-type {\n",
              "        vertical-align: middle;\n",
              "    }\n",
              "\n",
              "    .dataframe tbody tr th {\n",
              "        vertical-align: top;\n",
              "    }\n",
              "\n",
              "    .dataframe thead th {\n",
              "        text-align: right;\n",
              "    }\n",
              "</style>\n",
              "<table border=\"1\" class=\"dataframe\">\n",
              "  <thead>\n",
              "    <tr style=\"text-align: right;\">\n",
              "      <th>type</th>\n",
              "      <th>index</th>\n",
              "      <th>Movie</th>\n",
              "      <th>TV Show</th>\n",
              "    </tr>\n",
              "  </thead>\n",
              "  <tbody>\n",
              "    <tr>\n",
              "      <th>0</th>\n",
              "      <td>United States</td>\n",
              "      <td>2097.0</td>\n",
              "      <td>777.0</td>\n",
              "    </tr>\n",
              "    <tr>\n",
              "      <th>1</th>\n",
              "      <td>India</td>\n",
              "      <td>883.0</td>\n",
              "      <td>73.0</td>\n",
              "    </tr>\n",
              "    <tr>\n",
              "      <th>2</th>\n",
              "      <td>United Kingdom</td>\n",
              "      <td>341.0</td>\n",
              "      <td>235.0</td>\n",
              "    </tr>\n",
              "    <tr>\n",
              "      <th>3</th>\n",
              "      <td>No Country</td>\n",
              "      <td>229.0</td>\n",
              "      <td>276.0</td>\n",
              "    </tr>\n",
              "    <tr>\n",
              "      <th>4</th>\n",
              "      <td>Canada</td>\n",
              "      <td>175.0</td>\n",
              "      <td>84.0</td>\n",
              "    </tr>\n",
              "    <tr>\n",
              "      <th>5</th>\n",
              "      <td>Japan</td>\n",
              "      <td>75.0</td>\n",
              "      <td>160.0</td>\n",
              "    </tr>\n",
              "    <tr>\n",
              "      <th>6</th>\n",
              "      <td>France</td>\n",
              "      <td>137.0</td>\n",
              "      <td>59.0</td>\n",
              "    </tr>\n",
              "    <tr>\n",
              "      <th>7</th>\n",
              "      <td>South Korea</td>\n",
              "      <td>42.0</td>\n",
              "      <td>152.0</td>\n",
              "    </tr>\n",
              "    <tr>\n",
              "      <th>8</th>\n",
              "      <td>Spain</td>\n",
              "      <td>119.0</td>\n",
              "      <td>49.0</td>\n",
              "    </tr>\n",
              "    <tr>\n",
              "      <th>9</th>\n",
              "      <td>Mexico</td>\n",
              "      <td>79.0</td>\n",
              "      <td>44.0</td>\n",
              "    </tr>\n",
              "  </tbody>\n",
              "</table>\n",
              "</div>\n",
              "      <button class=\"colab-df-convert\" onclick=\"convertToInteractive('df-bb6145bc-cfde-456f-b763-19cd4ae6fbd4')\"\n",
              "              title=\"Convert this dataframe to an interactive table.\"\n",
              "              style=\"display:none;\">\n",
              "        \n",
              "  <svg xmlns=\"http://www.w3.org/2000/svg\" height=\"24px\"viewBox=\"0 0 24 24\"\n",
              "       width=\"24px\">\n",
              "    <path d=\"M0 0h24v24H0V0z\" fill=\"none\"/>\n",
              "    <path d=\"M18.56 5.44l.94 2.06.94-2.06 2.06-.94-2.06-.94-.94-2.06-.94 2.06-2.06.94zm-11 1L8.5 8.5l.94-2.06 2.06-.94-2.06-.94L8.5 2.5l-.94 2.06-2.06.94zm10 10l.94 2.06.94-2.06 2.06-.94-2.06-.94-.94-2.06-.94 2.06-2.06.94z\"/><path d=\"M17.41 7.96l-1.37-1.37c-.4-.4-.92-.59-1.43-.59-.52 0-1.04.2-1.43.59L10.3 9.45l-7.72 7.72c-.78.78-.78 2.05 0 2.83L4 21.41c.39.39.9.59 1.41.59.51 0 1.02-.2 1.41-.59l7.78-7.78 2.81-2.81c.8-.78.8-2.07 0-2.86zM5.41 20L4 18.59l7.72-7.72 1.47 1.35L5.41 20z\"/>\n",
              "  </svg>\n",
              "      </button>\n",
              "      \n",
              "  <style>\n",
              "    .colab-df-container {\n",
              "      display:flex;\n",
              "      flex-wrap:wrap;\n",
              "      gap: 12px;\n",
              "    }\n",
              "\n",
              "    .colab-df-convert {\n",
              "      background-color: #E8F0FE;\n",
              "      border: none;\n",
              "      border-radius: 50%;\n",
              "      cursor: pointer;\n",
              "      display: none;\n",
              "      fill: #1967D2;\n",
              "      height: 32px;\n",
              "      padding: 0 0 0 0;\n",
              "      width: 32px;\n",
              "    }\n",
              "\n",
              "    .colab-df-convert:hover {\n",
              "      background-color: #E2EBFA;\n",
              "      box-shadow: 0px 1px 2px rgba(60, 64, 67, 0.3), 0px 1px 3px 1px rgba(60, 64, 67, 0.15);\n",
              "      fill: #174EA6;\n",
              "    }\n",
              "\n",
              "    [theme=dark] .colab-df-convert {\n",
              "      background-color: #3B4455;\n",
              "      fill: #D2E3FC;\n",
              "    }\n",
              "\n",
              "    [theme=dark] .colab-df-convert:hover {\n",
              "      background-color: #434B5C;\n",
              "      box-shadow: 0px 1px 3px 1px rgba(0, 0, 0, 0.15);\n",
              "      filter: drop-shadow(0px 1px 2px rgba(0, 0, 0, 0.3));\n",
              "      fill: #FFFFFF;\n",
              "    }\n",
              "  </style>\n",
              "\n",
              "      <script>\n",
              "        const buttonEl =\n",
              "          document.querySelector('#df-bb6145bc-cfde-456f-b763-19cd4ae6fbd4 button.colab-df-convert');\n",
              "        buttonEl.style.display =\n",
              "          google.colab.kernel.accessAllowed ? 'block' : 'none';\n",
              "\n",
              "        async function convertToInteractive(key) {\n",
              "          const element = document.querySelector('#df-bb6145bc-cfde-456f-b763-19cd4ae6fbd4');\n",
              "          const dataTable =\n",
              "            await google.colab.kernel.invokeFunction('convertToInteractive',\n",
              "                                                     [key], {});\n",
              "          if (!dataTable) return;\n",
              "\n",
              "          const docLinkHtml = 'Like what you see? Visit the ' +\n",
              "            '<a target=\"_blank\" href=https://colab.research.google.com/notebooks/data_table.ipynb>data table notebook</a>'\n",
              "            + ' to learn more about interactive tables.';\n",
              "          element.innerHTML = '';\n",
              "          dataTable['output_type'] = 'display_data';\n",
              "          await google.colab.output.renderOutput(dataTable, element);\n",
              "          const docLink = document.createElement('div');\n",
              "          docLink.innerHTML = docLinkHtml;\n",
              "          element.appendChild(docLink);\n",
              "        }\n",
              "      </script>\n",
              "    </div>\n",
              "  </div>\n",
              "  "
            ]
          },
          "metadata": {},
          "execution_count": 36
        }
      ]
    },
    {
      "cell_type": "code",
      "source": [
        "# Plot the above data :\n",
        "fig = go.Figure()\n",
        "fig.add_trace(go.Bar(\n",
        "    y=countryVScontent['index'],\n",
        "    x=countryVScontent['Movie'],\n",
        "    name='Movies',\n",
        "    orientation='h',\n",
        "    marker=dict(\n",
        "        color='rgba(219, 0, 0, 1)'\n",
        "    )\n",
        "))\n",
        "fig.add_trace(go.Bar(\n",
        "    y=countryVScontent['index'],\n",
        "    x=countryVScontent['TV Show'],\n",
        "    name='TV Show',\n",
        "    orientation='h',\n",
        "    marker=dict(\n",
        "        color='rgba(86, 77, 77, 1)'\n",
        "    )\n",
        "))\n",
        "\n",
        "fig.update_layout(barmode='stack',\n",
        "                   title={'text': 'Top ten countries and the content they provide.',\n",
        "                          'y':0.89,\n",
        "                          'x':0.5,\n",
        "                          'font_size':25,\n",
        "                          'xanchor': 'center',\n",
        "                          'yanchor': 'top'}\n",
        "                  )\n",
        "fig.show()"
      ],
      "metadata": {
        "colab": {
          "base_uri": "https://localhost:8080/",
          "height": 542
        },
        "id": "5bitjHzSyeKi",
        "outputId": "8d66e063-8dd9-4382-d002-d7b25da6300c"
      },
      "execution_count": 37,
      "outputs": [
        {
          "output_type": "display_data",
          "data": {
            "text/html": [
              "<html>\n",
              "<head><meta charset=\"utf-8\" /></head>\n",
              "<body>\n",
              "    <div>            <script src=\"https://cdnjs.cloudflare.com/ajax/libs/mathjax/2.7.5/MathJax.js?config=TeX-AMS-MML_SVG\"></script><script type=\"text/javascript\">if (window.MathJax) {MathJax.Hub.Config({SVG: {font: \"STIX-Web\"}});}</script>                <script type=\"text/javascript\">window.PlotlyConfig = {MathJaxConfig: 'local'};</script>\n",
              "        <script src=\"https://cdn.plot.ly/plotly-2.8.3.min.js\"></script>                <div id=\"f025ce7e-d3cf-426e-9de2-0c255541d862\" class=\"plotly-graph-div\" style=\"height:525px; width:100%;\"></div>            <script type=\"text/javascript\">                                    window.PLOTLYENV=window.PLOTLYENV || {};                                    if (document.getElementById(\"f025ce7e-d3cf-426e-9de2-0c255541d862\")) {                    Plotly.newPlot(                        \"f025ce7e-d3cf-426e-9de2-0c255541d862\",                        [{\"marker\":{\"color\":\"rgba(219, 0, 0, 1)\"},\"name\":\"Movies\",\"orientation\":\"h\",\"x\":[2097.0,883.0,341.0,229.0,175.0,75.0,137.0,42.0,119.0,79.0],\"y\":[\"United States\",\"India\",\"United Kingdom\",\"No Country\",\"Canada\",\"Japan\",\"France\",\"South Korea\",\"Spain\",\"Mexico\"],\"type\":\"bar\"},{\"marker\":{\"color\":\"rgba(86, 77, 77, 1)\"},\"name\":\"TV Show\",\"orientation\":\"h\",\"x\":[777.0,73.0,235.0,276.0,84.0,160.0,59.0,152.0,49.0,44.0],\"y\":[\"United States\",\"India\",\"United Kingdom\",\"No Country\",\"Canada\",\"Japan\",\"France\",\"South Korea\",\"Spain\",\"Mexico\"],\"type\":\"bar\"}],                        {\"template\":{\"data\":{\"bar\":[{\"error_x\":{\"color\":\"#2a3f5f\"},\"error_y\":{\"color\":\"#2a3f5f\"},\"marker\":{\"line\":{\"color\":\"#E5ECF6\",\"width\":0.5},\"pattern\":{\"fillmode\":\"overlay\",\"size\":10,\"solidity\":0.2}},\"type\":\"bar\"}],\"barpolar\":[{\"marker\":{\"line\":{\"color\":\"#E5ECF6\",\"width\":0.5},\"pattern\":{\"fillmode\":\"overlay\",\"size\":10,\"solidity\":0.2}},\"type\":\"barpolar\"}],\"carpet\":[{\"aaxis\":{\"endlinecolor\":\"#2a3f5f\",\"gridcolor\":\"white\",\"linecolor\":\"white\",\"minorgridcolor\":\"white\",\"startlinecolor\":\"#2a3f5f\"},\"baxis\":{\"endlinecolor\":\"#2a3f5f\",\"gridcolor\":\"white\",\"linecolor\":\"white\",\"minorgridcolor\":\"white\",\"startlinecolor\":\"#2a3f5f\"},\"type\":\"carpet\"}],\"choropleth\":[{\"colorbar\":{\"outlinewidth\":0,\"ticks\":\"\"},\"type\":\"choropleth\"}],\"contour\":[{\"colorbar\":{\"outlinewidth\":0,\"ticks\":\"\"},\"colorscale\":[[0.0,\"#0d0887\"],[0.1111111111111111,\"#46039f\"],[0.2222222222222222,\"#7201a8\"],[0.3333333333333333,\"#9c179e\"],[0.4444444444444444,\"#bd3786\"],[0.5555555555555556,\"#d8576b\"],[0.6666666666666666,\"#ed7953\"],[0.7777777777777778,\"#fb9f3a\"],[0.8888888888888888,\"#fdca26\"],[1.0,\"#f0f921\"]],\"type\":\"contour\"}],\"contourcarpet\":[{\"colorbar\":{\"outlinewidth\":0,\"ticks\":\"\"},\"type\":\"contourcarpet\"}],\"heatmap\":[{\"colorbar\":{\"outlinewidth\":0,\"ticks\":\"\"},\"colorscale\":[[0.0,\"#0d0887\"],[0.1111111111111111,\"#46039f\"],[0.2222222222222222,\"#7201a8\"],[0.3333333333333333,\"#9c179e\"],[0.4444444444444444,\"#bd3786\"],[0.5555555555555556,\"#d8576b\"],[0.6666666666666666,\"#ed7953\"],[0.7777777777777778,\"#fb9f3a\"],[0.8888888888888888,\"#fdca26\"],[1.0,\"#f0f921\"]],\"type\":\"heatmap\"}],\"heatmapgl\":[{\"colorbar\":{\"outlinewidth\":0,\"ticks\":\"\"},\"colorscale\":[[0.0,\"#0d0887\"],[0.1111111111111111,\"#46039f\"],[0.2222222222222222,\"#7201a8\"],[0.3333333333333333,\"#9c179e\"],[0.4444444444444444,\"#bd3786\"],[0.5555555555555556,\"#d8576b\"],[0.6666666666666666,\"#ed7953\"],[0.7777777777777778,\"#fb9f3a\"],[0.8888888888888888,\"#fdca26\"],[1.0,\"#f0f921\"]],\"type\":\"heatmapgl\"}],\"histogram\":[{\"marker\":{\"pattern\":{\"fillmode\":\"overlay\",\"size\":10,\"solidity\":0.2}},\"type\":\"histogram\"}],\"histogram2d\":[{\"colorbar\":{\"outlinewidth\":0,\"ticks\":\"\"},\"colorscale\":[[0.0,\"#0d0887\"],[0.1111111111111111,\"#46039f\"],[0.2222222222222222,\"#7201a8\"],[0.3333333333333333,\"#9c179e\"],[0.4444444444444444,\"#bd3786\"],[0.5555555555555556,\"#d8576b\"],[0.6666666666666666,\"#ed7953\"],[0.7777777777777778,\"#fb9f3a\"],[0.8888888888888888,\"#fdca26\"],[1.0,\"#f0f921\"]],\"type\":\"histogram2d\"}],\"histogram2dcontour\":[{\"colorbar\":{\"outlinewidth\":0,\"ticks\":\"\"},\"colorscale\":[[0.0,\"#0d0887\"],[0.1111111111111111,\"#46039f\"],[0.2222222222222222,\"#7201a8\"],[0.3333333333333333,\"#9c179e\"],[0.4444444444444444,\"#bd3786\"],[0.5555555555555556,\"#d8576b\"],[0.6666666666666666,\"#ed7953\"],[0.7777777777777778,\"#fb9f3a\"],[0.8888888888888888,\"#fdca26\"],[1.0,\"#f0f921\"]],\"type\":\"histogram2dcontour\"}],\"mesh3d\":[{\"colorbar\":{\"outlinewidth\":0,\"ticks\":\"\"},\"type\":\"mesh3d\"}],\"parcoords\":[{\"line\":{\"colorbar\":{\"outlinewidth\":0,\"ticks\":\"\"}},\"type\":\"parcoords\"}],\"pie\":[{\"automargin\":true,\"type\":\"pie\"}],\"scatter\":[{\"marker\":{\"colorbar\":{\"outlinewidth\":0,\"ticks\":\"\"}},\"type\":\"scatter\"}],\"scatter3d\":[{\"line\":{\"colorbar\":{\"outlinewidth\":0,\"ticks\":\"\"}},\"marker\":{\"colorbar\":{\"outlinewidth\":0,\"ticks\":\"\"}},\"type\":\"scatter3d\"}],\"scattercarpet\":[{\"marker\":{\"colorbar\":{\"outlinewidth\":0,\"ticks\":\"\"}},\"type\":\"scattercarpet\"}],\"scattergeo\":[{\"marker\":{\"colorbar\":{\"outlinewidth\":0,\"ticks\":\"\"}},\"type\":\"scattergeo\"}],\"scattergl\":[{\"marker\":{\"colorbar\":{\"outlinewidth\":0,\"ticks\":\"\"}},\"type\":\"scattergl\"}],\"scattermapbox\":[{\"marker\":{\"colorbar\":{\"outlinewidth\":0,\"ticks\":\"\"}},\"type\":\"scattermapbox\"}],\"scatterpolar\":[{\"marker\":{\"colorbar\":{\"outlinewidth\":0,\"ticks\":\"\"}},\"type\":\"scatterpolar\"}],\"scatterpolargl\":[{\"marker\":{\"colorbar\":{\"outlinewidth\":0,\"ticks\":\"\"}},\"type\":\"scatterpolargl\"}],\"scatterternary\":[{\"marker\":{\"colorbar\":{\"outlinewidth\":0,\"ticks\":\"\"}},\"type\":\"scatterternary\"}],\"surface\":[{\"colorbar\":{\"outlinewidth\":0,\"ticks\":\"\"},\"colorscale\":[[0.0,\"#0d0887\"],[0.1111111111111111,\"#46039f\"],[0.2222222222222222,\"#7201a8\"],[0.3333333333333333,\"#9c179e\"],[0.4444444444444444,\"#bd3786\"],[0.5555555555555556,\"#d8576b\"],[0.6666666666666666,\"#ed7953\"],[0.7777777777777778,\"#fb9f3a\"],[0.8888888888888888,\"#fdca26\"],[1.0,\"#f0f921\"]],\"type\":\"surface\"}],\"table\":[{\"cells\":{\"fill\":{\"color\":\"#EBF0F8\"},\"line\":{\"color\":\"white\"}},\"header\":{\"fill\":{\"color\":\"#C8D4E3\"},\"line\":{\"color\":\"white\"}},\"type\":\"table\"}]},\"layout\":{\"annotationdefaults\":{\"arrowcolor\":\"#2a3f5f\",\"arrowhead\":0,\"arrowwidth\":1},\"autotypenumbers\":\"strict\",\"coloraxis\":{\"colorbar\":{\"outlinewidth\":0,\"ticks\":\"\"}},\"colorscale\":{\"diverging\":[[0,\"#8e0152\"],[0.1,\"#c51b7d\"],[0.2,\"#de77ae\"],[0.3,\"#f1b6da\"],[0.4,\"#fde0ef\"],[0.5,\"#f7f7f7\"],[0.6,\"#e6f5d0\"],[0.7,\"#b8e186\"],[0.8,\"#7fbc41\"],[0.9,\"#4d9221\"],[1,\"#276419\"]],\"sequential\":[[0.0,\"#0d0887\"],[0.1111111111111111,\"#46039f\"],[0.2222222222222222,\"#7201a8\"],[0.3333333333333333,\"#9c179e\"],[0.4444444444444444,\"#bd3786\"],[0.5555555555555556,\"#d8576b\"],[0.6666666666666666,\"#ed7953\"],[0.7777777777777778,\"#fb9f3a\"],[0.8888888888888888,\"#fdca26\"],[1.0,\"#f0f921\"]],\"sequentialminus\":[[0.0,\"#0d0887\"],[0.1111111111111111,\"#46039f\"],[0.2222222222222222,\"#7201a8\"],[0.3333333333333333,\"#9c179e\"],[0.4444444444444444,\"#bd3786\"],[0.5555555555555556,\"#d8576b\"],[0.6666666666666666,\"#ed7953\"],[0.7777777777777778,\"#fb9f3a\"],[0.8888888888888888,\"#fdca26\"],[1.0,\"#f0f921\"]]},\"colorway\":[\"#636efa\",\"#EF553B\",\"#00cc96\",\"#ab63fa\",\"#FFA15A\",\"#19d3f3\",\"#FF6692\",\"#B6E880\",\"#FF97FF\",\"#FECB52\"],\"font\":{\"color\":\"#2a3f5f\"},\"geo\":{\"bgcolor\":\"white\",\"lakecolor\":\"white\",\"landcolor\":\"#E5ECF6\",\"showlakes\":true,\"showland\":true,\"subunitcolor\":\"white\"},\"hoverlabel\":{\"align\":\"left\"},\"hovermode\":\"closest\",\"mapbox\":{\"style\":\"light\"},\"paper_bgcolor\":\"white\",\"plot_bgcolor\":\"#E5ECF6\",\"polar\":{\"angularaxis\":{\"gridcolor\":\"white\",\"linecolor\":\"white\",\"ticks\":\"\"},\"bgcolor\":\"#E5ECF6\",\"radialaxis\":{\"gridcolor\":\"white\",\"linecolor\":\"white\",\"ticks\":\"\"}},\"scene\":{\"xaxis\":{\"backgroundcolor\":\"#E5ECF6\",\"gridcolor\":\"white\",\"gridwidth\":2,\"linecolor\":\"white\",\"showbackground\":true,\"ticks\":\"\",\"zerolinecolor\":\"white\"},\"yaxis\":{\"backgroundcolor\":\"#E5ECF6\",\"gridcolor\":\"white\",\"gridwidth\":2,\"linecolor\":\"white\",\"showbackground\":true,\"ticks\":\"\",\"zerolinecolor\":\"white\"},\"zaxis\":{\"backgroundcolor\":\"#E5ECF6\",\"gridcolor\":\"white\",\"gridwidth\":2,\"linecolor\":\"white\",\"showbackground\":true,\"ticks\":\"\",\"zerolinecolor\":\"white\"}},\"shapedefaults\":{\"line\":{\"color\":\"#2a3f5f\"}},\"ternary\":{\"aaxis\":{\"gridcolor\":\"white\",\"linecolor\":\"white\",\"ticks\":\"\"},\"baxis\":{\"gridcolor\":\"white\",\"linecolor\":\"white\",\"ticks\":\"\"},\"bgcolor\":\"#E5ECF6\",\"caxis\":{\"gridcolor\":\"white\",\"linecolor\":\"white\",\"ticks\":\"\"}},\"title\":{\"x\":0.05},\"xaxis\":{\"automargin\":true,\"gridcolor\":\"white\",\"linecolor\":\"white\",\"ticks\":\"\",\"title\":{\"standoff\":15},\"zerolinecolor\":\"white\",\"zerolinewidth\":2},\"yaxis\":{\"automargin\":true,\"gridcolor\":\"white\",\"linecolor\":\"white\",\"ticks\":\"\",\"title\":{\"standoff\":15},\"zerolinecolor\":\"white\",\"zerolinewidth\":2}}},\"title\":{\"font\":{\"size\":25},\"text\":\"Top ten countries and the content they provide.\",\"y\":0.89,\"x\":0.5,\"xanchor\":\"center\",\"yanchor\":\"top\"},\"barmode\":\"stack\"},                        {\"responsive\": true}                    ).then(function(){\n",
              "                            \n",
              "var gd = document.getElementById('f025ce7e-d3cf-426e-9de2-0c255541d862');\n",
              "var x = new MutationObserver(function (mutations, observer) {{\n",
              "        var display = window.getComputedStyle(gd).display;\n",
              "        if (!display || display === 'none') {{\n",
              "            console.log([gd, 'removed!']);\n",
              "            Plotly.purge(gd);\n",
              "            observer.disconnect();\n",
              "        }}\n",
              "}});\n",
              "\n",
              "// Listen for the removal of the full notebook cells\n",
              "var notebookContainer = gd.closest('#notebook-container');\n",
              "if (notebookContainer) {{\n",
              "    x.observe(notebookContainer, {childList: true});\n",
              "}}\n",
              "\n",
              "// Listen for the clearing of the current output cell\n",
              "var outputEl = gd.closest('.output');\n",
              "if (outputEl) {{\n",
              "    x.observe(outputEl, {childList: true});\n",
              "}}\n",
              "\n",
              "                        })                };                            </script>        </div>\n",
              "</body>\n",
              "</html>"
            ]
          },
          "metadata": {}
        }
      ]
    },
    {
      "cell_type": "markdown",
      "source": [
        "1.The United States is a leading producer of both types of content; this makes sense since Netflix is a US company.\n",
        "\n",
        "2.The influence of Bollywood in India explains the type of content available, and perhaps the main focus of this industry is Movies and not TV Shows."
      ],
      "metadata": {
        "id": "j5kGJG60yvjb"
      }
    },
    {
      "cell_type": "markdown",
      "source": [
        "###**8. Netflix Movie Duration Distribution :**"
      ],
      "metadata": {
        "id": "Iv_pf-Gey27f"
      }
    },
    {
      "cell_type": "code",
      "source": [
        "NETFLIX_pk['duration']=NETFLIX_pk['duration'].str.replace('Season','')\n",
        "NETFLIX_pk['duration']=NETFLIX_pk['duration'].str.replace('s','')\n",
        "NETFLIX_pk['duration']=NETFLIX_pk['duration'].str.replace('min','')\n",
        "\n",
        "NETFLIX_pk['duration']=NETFLIX_pk['duration'].astype(str).astype(int)\n",
        "NETFLIX_pk['duration']"
      ],
      "metadata": {
        "colab": {
          "base_uri": "https://localhost:8080/"
        },
        "id": "qNgK0lBcy-Xr",
        "outputId": "432f026f-a3ca-4611-f995-83db476cac68"
      },
      "execution_count": 38,
      "outputs": [
        {
          "output_type": "execute_result",
          "data": {
            "text/plain": [
              "0         4\n",
              "1        93\n",
              "2        78\n",
              "3        80\n",
              "4       123\n",
              "       ... \n",
              "7782     99\n",
              "7783    111\n",
              "7784     44\n",
              "7785      1\n",
              "7786     90\n",
              "Name: duration, Length: 7770, dtype: int64"
            ]
          },
          "metadata": {},
          "execution_count": 38
        }
      ]
    },
    {
      "cell_type": "code",
      "source": [
        "# Length distribution of movies :\n",
        "\n",
        "movie_PK = NETFLIX_pk[NETFLIX_pk['type']=='Movie']\n",
        "\n",
        "plt.figure(figsize=(14, 7))\n",
        "plt.style.use(\"default\")\n",
        "sns.distplot(movie_PK['duration'], bins=30,color='red',kde_kws={\"color\":\"Red\"}).set(ylabel=None)\n",
        "\n",
        "plt.title('Length distribution of movies', fontsize=16,fontweight=\"bold\")\n",
        "plt.xlabel('Duration', fontsize=14)\n",
        "plt.show()"
      ],
      "metadata": {
        "colab": {
          "base_uri": "https://localhost:8080/",
          "height": 737
        },
        "id": "r3dNlEG8zkGL",
        "outputId": "aa0c8cd3-786c-450e-be57-bfeda7a77651"
      },
      "execution_count": 42,
      "outputs": [
        {
          "output_type": "stream",
          "name": "stderr",
          "text": [
            "/usr/local/lib/python3.7/dist-packages/seaborn/distributions.py:2619: FutureWarning:\n",
            "\n",
            "`distplot` is a deprecated function and will be removed in a future version. Please adapt your code to use either `displot` (a figure-level function with similar flexibility) or `histplot` (an axes-level function for histograms).\n",
            "\n"
          ]
        },
        {
          "output_type": "display_data",
          "data": {
            "text/plain": [
              "<Figure size 1400x700 with 1 Axes>"
            ],
            "image/png": "[encoded data removed]"
          },
          "metadata": {}
        }
      ]
    },
    {
      "cell_type": "markdown",
      "source": [],
      "metadata": {
        "id": "3lhnwRmY0V4A"
      }
    },
    {
      "cell_type": "markdown",
      "metadata": {
        "id": "7tmb86tJU59I"
      },
      "source": [
        "**Most of the movies last for 90 to 120 minutes.**"
      ]
    },
    {
      "cell_type": "markdown",
      "source": [],
      "metadata": {
        "id": "QOVWOyji0Z8r"
      }
    },
    {
      "cell_type": "markdown",
      "metadata": {
        "id": "9n7gouS3U9Su"
      },
      "source": [
        "### **9.Country VS Type :**\n",
        "\n",
        "\n",
        "\n"
      ]
    },
    {
      "cell_type": "code",
      "source": [
        "#get all country type preference :\n",
        "\n",
        "def get_country_type_trends(df):\n",
        "  def explode_country(country):\n",
        "    try:\n",
        "        return country.split(\", \")\n",
        "    except:\n",
        "        return \"\"\n",
        "  df['country_list'] = df.apply(lambda x: explode_country(x['country']),axis=1)\n",
        "  df = df.explode('country_list')\n",
        "  grouped_df_ = df.groupby(['country_list','type']).agg({'title':'count'})\n",
        "  grouped_df = grouped_df_.reset_index()\n",
        "  grouped_df['country_list'].values\n",
        "  grouped_df = grouped_df[grouped_df.country_list != '']\n",
        "  rating_country_df = grouped_df.reset_index().drop(\"index\", axis=1)\n",
        "  list_of_countries = list(set(list(rating_country_df['country_list'].values)))\n",
        "  for each in list_of_countries:\n",
        "    if each in ['United States','India','United Kingdom']:\n",
        "      plt.style.use('default')\n",
        "      rating_country_df[rating_country_df['country_list'] == each].sort_values(\"title\",ascending=False).plot.bar(x = \"type\", y=\"title\", color=\"red\", rot=45, figsize=(5,5),edgecolor='Black')\n",
        "      plt.title(f\"{each}\")\n",
        "      plt.grid(False)\n",
        "\n",
        "get_country_type_trends(NETFLIX_pk)"
      ],
      "metadata": {
        "colab": {
          "base_uri": "https://localhost:8080/",
          "height": 1000
        },
        "id": "SSplgu5u0iUF",
        "outputId": "5fa2010a-8437-4924-8ce5-fdc6fcd324ad"
      },
      "execution_count": 43,
      "outputs": [
        {
          "output_type": "display_data",
          "data": {
            "text/plain": [
              "<Figure size 500x500 with 1 Axes>"
            ],
            "image/png": "[encoded data removed]"
          },
          "metadata": {}
        },
        {
          "output_type": "display_data",
          "data": {
            "text/plain": [
              "<Figure size 500x500 with 1 Axes>"
            ],
            "image/png": "[encoded data removed]"
          },
          "metadata": {}
        },
        {
          "output_type": "display_data",
          "data": {
            "text/plain": [
              "<Figure size 500x500 with 1 Axes>"
            ],
            "image/png": "[encoded data removed]"
          },
          "metadata": {}
        }
      ]
    },
    {
      "cell_type": "markdown",
      "metadata": {
        "id": "-vuxg_zjWFft"
      },
      "source": [
        "### **10.Summary of Content by Rating :**\n",
        "\n",
        "\n",
        "\n"
      ]
    },
    {
      "cell_type": "code",
      "source": [
        "movies_rating = dict(movie['rating'].value_counts())\n",
        "tv_shows_rating = dict(tv_show['rating'].value_counts())"
      ],
      "metadata": {
        "id": "dGLzaabW1Exe"
      },
      "execution_count": 44,
      "outputs": []
    },
    {
      "cell_type": "code",
      "source": [
        "# Plot the count of ratings for Tv shows and movies to understand them better.\n",
        "fig = go.Figure()\n",
        "fig.add_trace(go.Bar(x=list(tv_shows_rating.keys()),\n",
        "                y=list(tv_shows_rating.values()),\n",
        "                text=list(tv_shows_rating.values()),\n",
        "                name='Tv-Shows',\n",
        "                marker_color='rgb(219,0,0)'\n",
        "                ))\n",
        "fig.add_trace(go.Bar(x=list(movies_rating.keys()),\n",
        "                y=list(movies_rating.values()),\n",
        "                text=list(movies_rating.values()),\n",
        "                name='Movies',\n",
        "                marker_color='rgb(86,77,77)'\n",
        "                ))\n",
        "\n",
        "fig.update_layout(\n",
        "    title='Ratings',title_x=0.47,\n",
        "    xaxis_tickfont_size=15,\n",
        "    yaxis=dict(\n",
        "        title='Count',\n",
        "        titlefont_size=16,\n",
        "        tickfont_size=14,\n",
        "    ),\n",
        "    legend=dict(\n",
        "        x=1,\n",
        "        y=1.0,\n",
        "        bgcolor='rgba(255, 255, 255, 0)',\n",
        "        bordercolor='rgba(255, 255, 255, 0)'\n",
        "    ),\n",
        "    barmode='group',\n",
        "    bargap=0.19,\n",
        "    bargroupgap=0.2 \n",
        ")\n",
        "fig.show()"
      ],
      "metadata": {
        "colab": {
          "base_uri": "https://localhost:8080/",
          "height": 542
        },
        "id": "f8S6Piku1M9Z",
        "outputId": "0126d751-9ddb-4812-e609-4fcddb08f2aa"
      },
      "execution_count": 45,
      "outputs": [
        {
          "output_type": "display_data",
          "data": {
            "text/html": [
              "<html>\n",
              "<head><meta charset=\"utf-8\" /></head>\n",
              "<body>\n",
              "    <div>            <script src=\"https://cdnjs.cloudflare.com/ajax/libs/mathjax/2.7.5/MathJax.js?config=TeX-AMS-MML_SVG\"></script><script type=\"text/javascript\">if (window.MathJax) {MathJax.Hub.Config({SVG: {font: \"STIX-Web\"}});}</script>                <script type=\"text/javascript\">window.PlotlyConfig = {MathJaxConfig: 'local'};</script>\n",
              "        <script src=\"https://cdn.plot.ly/plotly-2.8.3.min.js\"></script>                <div id=\"8b11b1b5-dbee-48f0-adc2-f6637c10a92c\" class=\"plotly-graph-div\" style=\"height:525px; width:100%;\"></div>            <script type=\"text/javascript\">                                    window.PLOTLYENV=window.PLOTLYENV || {};                                    if (document.getElementById(\"8b11b1b5-dbee-48f0-adc2-f6637c10a92c\")) {                    Plotly.newPlot(                        \"8b11b1b5-dbee-48f0-adc2-f6637c10a92c\",                        [{\"marker\":{\"color\":\"rgb(219,0,0)\"},\"name\":\"Tv-Shows\",\"text\":[\"1016\",\"656\",\"299\",\"175\",\"162\",\"83\",\"4\",\"2\",\"1\"],\"x\":[\"TV-MA\",\"TV-14\",\"TV-PG\",\"TV-Y7\",\"TV-Y\",\"TV-G\",\"NR\",\"R\",\"TV-Y7-FV\"],\"y\":[1016,656,299,175,162,83,4,2,1],\"type\":\"bar\"},{\"marker\":{\"color\":\"rgb(86,77,77)\"},\"name\":\"Movies\",\"text\":[\"1845\",\"1272\",\"663\",\"505\",\"386\",\"247\",\"117\",\"111\",\"95\",\"79\",\"39\",\"5\",\"5\",\"3\"],\"x\":[\"TV-MA\",\"TV-14\",\"R\",\"TV-PG\",\"PG-13\",\"PG\",\"TV-Y\",\"TV-G\",\"TV-Y7\",\"NR\",\"G\",\"TV-Y7-FV\",\"UR\",\"NC-17\"],\"y\":[1845,1272,663,505,386,247,117,111,95,79,39,5,5,3],\"type\":\"bar\"}],                        {\"template\":{\"data\":{\"bar\":[{\"error_x\":{\"color\":\"#2a3f5f\"},\"error_y\":{\"color\":\"#2a3f5f\"},\"marker\":{\"line\":{\"color\":\"#E5ECF6\",\"width\":0.5},\"pattern\":{\"fillmode\":\"overlay\",\"size\":10,\"solidity\":0.2}},\"type\":\"bar\"}],\"barpolar\":[{\"marker\":{\"line\":{\"color\":\"#E5ECF6\",\"width\":0.5},\"pattern\":{\"fillmode\":\"overlay\",\"size\":10,\"solidity\":0.2}},\"type\":\"barpolar\"}],\"carpet\":[{\"aaxis\":{\"endlinecolor\":\"#2a3f5f\",\"gridcolor\":\"white\",\"linecolor\":\"white\",\"minorgridcolor\":\"white\",\"startlinecolor\":\"#2a3f5f\"},\"baxis\":{\"endlinecolor\":\"#2a3f5f\",\"gridcolor\":\"white\",\"linecolor\":\"white\",\"minorgridcolor\":\"white\",\"startlinecolor\":\"#2a3f5f\"},\"type\":\"carpet\"}],\"choropleth\":[{\"colorbar\":{\"outlinewidth\":0,\"ticks\":\"\"},\"type\":\"choropleth\"}],\"contour\":[{\"colorbar\":{\"outlinewidth\":0,\"ticks\":\"\"},\"colorscale\":[[0.0,\"#0d0887\"],[0.1111111111111111,\"#46039f\"],[0.2222222222222222,\"#7201a8\"],[0.3333333333333333,\"#9c179e\"],[0.4444444444444444,\"#bd3786\"],[0.5555555555555556,\"#d8576b\"],[0.6666666666666666,\"#ed7953\"],[0.7777777777777778,\"#fb9f3a\"],[0.8888888888888888,\"#fdca26\"],[1.0,\"#f0f921\"]],\"type\":\"contour\"}],\"contourcarpet\":[{\"colorbar\":{\"outlinewidth\":0,\"ticks\":\"\"},\"type\":\"contourcarpet\"}],\"heatmap\":[{\"colorbar\":{\"outlinewidth\":0,\"ticks\":\"\"},\"colorscale\":[[0.0,\"#0d0887\"],[0.1111111111111111,\"#46039f\"],[0.2222222222222222,\"#7201a8\"],[0.3333333333333333,\"#9c179e\"],[0.4444444444444444,\"#bd3786\"],[0.5555555555555556,\"#d8576b\"],[0.6666666666666666,\"#ed7953\"],[0.7777777777777778,\"#fb9f3a\"],[0.8888888888888888,\"#fdca26\"],[1.0,\"#f0f921\"]],\"type\":\"heatmap\"}],\"heatmapgl\":[{\"colorbar\":{\"outlinewidth\":0,\"ticks\":\"\"},\"colorscale\":[[0.0,\"#0d0887\"],[0.1111111111111111,\"#46039f\"],[0.2222222222222222,\"#7201a8\"],[0.3333333333333333,\"#9c179e\"],[0.4444444444444444,\"#bd3786\"],[0.5555555555555556,\"#d8576b\"],[0.6666666666666666,\"#ed7953\"],[0.7777777777777778,\"#fb9f3a\"],[0.8888888888888888,\"#fdca26\"],[1.0,\"#f0f921\"]],\"type\":\"heatmapgl\"}],\"histogram\":[{\"marker\":{\"pattern\":{\"fillmode\":\"overlay\",\"size\":10,\"solidity\":0.2}},\"type\":\"histogram\"}],\"histogram2d\":[{\"colorbar\":{\"outlinewidth\":0,\"ticks\":\"\"},\"colorscale\":[[0.0,\"#0d0887\"],[0.1111111111111111,\"#46039f\"],[0.2222222222222222,\"#7201a8\"],[0.3333333333333333,\"#9c179e\"],[0.4444444444444444,\"#bd3786\"],[0.5555555555555556,\"#d8576b\"],[0.6666666666666666,\"#ed7953\"],[0.7777777777777778,\"#fb9f3a\"],[0.8888888888888888,\"#fdca26\"],[1.0,\"#f0f921\"]],\"type\":\"histogram2d\"}],\"histogram2dcontour\":[{\"colorbar\":{\"outlinewidth\":0,\"ticks\":\"\"},\"colorscale\":[[0.0,\"#0d0887\"],[0.1111111111111111,\"#46039f\"],[0.2222222222222222,\"#7201a8\"],[0.3333333333333333,\"#9c179e\"],[0.4444444444444444,\"#bd3786\"],[0.5555555555555556,\"#d8576b\"],[0.6666666666666666,\"#ed7953\"],[0.7777777777777778,\"#fb9f3a\"],[0.8888888888888888,\"#fdca26\"],[1.0,\"#f0f921\"]],\"type\":\"histogram2dcontour\"}],\"mesh3d\":[{\"colorbar\":{\"outlinewidth\":0,\"ticks\":\"\"},\"type\":\"mesh3d\"}],\"parcoords\":[{\"line\":{\"colorbar\":{\"outlinewidth\":0,\"ticks\":\"\"}},\"type\":\"parcoords\"}],\"pie\":[{\"automargin\":true,\"type\":\"pie\"}],\"scatter\":[{\"marker\":{\"colorbar\":{\"outlinewidth\":0,\"ticks\":\"\"}},\"type\":\"scatter\"}],\"scatter3d\":[{\"line\":{\"colorbar\":{\"outlinewidth\":0,\"ticks\":\"\"}},\"marker\":{\"colorbar\":{\"outlinewidth\":0,\"ticks\":\"\"}},\"type\":\"scatter3d\"}],\"scattercarpet\":[{\"marker\":{\"colorbar\":{\"outlinewidth\":0,\"ticks\":\"\"}},\"type\":\"scattercarpet\"}],\"scattergeo\":[{\"marker\":{\"colorbar\":{\"outlinewidth\":0,\"ticks\":\"\"}},\"type\":\"scattergeo\"}],\"scattergl\":[{\"marker\":{\"colorbar\":{\"outlinewidth\":0,\"ticks\":\"\"}},\"type\":\"scattergl\"}],\"scattermapbox\":[{\"marker\":{\"colorbar\":{\"outlinewidth\":0,\"ticks\":\"\"}},\"type\":\"scattermapbox\"}],\"scatterpolar\":[{\"marker\":{\"colorbar\":{\"outlinewidth\":0,\"ticks\":\"\"}},\"type\":\"scatterpolar\"}],\"scatterpolargl\":[{\"marker\":{\"colorbar\":{\"outlinewidth\":0,\"ticks\":\"\"}},\"type\":\"scatterpolargl\"}],\"scatterternary\":[{\"marker\":{\"colorbar\":{\"outlinewidth\":0,\"ticks\":\"\"}},\"type\":\"scatterternary\"}],\"surface\":[{\"colorbar\":{\"outlinewidth\":0,\"ticks\":\"\"},\"colorscale\":[[0.0,\"#0d0887\"],[0.1111111111111111,\"#46039f\"],[0.2222222222222222,\"#7201a8\"],[0.3333333333333333,\"#9c179e\"],[0.4444444444444444,\"#bd3786\"],[0.5555555555555556,\"#d8576b\"],[0.6666666666666666,\"#ed7953\"],[0.7777777777777778,\"#fb9f3a\"],[0.8888888888888888,\"#fdca26\"],[1.0,\"#f0f921\"]],\"type\":\"surface\"}],\"table\":[{\"cells\":{\"fill\":{\"color\":\"#EBF0F8\"},\"line\":{\"color\":\"white\"}},\"header\":{\"fill\":{\"color\":\"#C8D4E3\"},\"line\":{\"color\":\"white\"}},\"type\":\"table\"}]},\"layout\":{\"annotationdefaults\":{\"arrowcolor\":\"#2a3f5f\",\"arrowhead\":0,\"arrowwidth\":1},\"autotypenumbers\":\"strict\",\"coloraxis\":{\"colorbar\":{\"outlinewidth\":0,\"ticks\":\"\"}},\"colorscale\":{\"diverging\":[[0,\"#8e0152\"],[0.1,\"#c51b7d\"],[0.2,\"#de77ae\"],[0.3,\"#f1b6da\"],[0.4,\"#fde0ef\"],[0.5,\"#f7f7f7\"],[0.6,\"#e6f5d0\"],[0.7,\"#b8e186\"],[0.8,\"#7fbc41\"],[0.9,\"#4d9221\"],[1,\"#276419\"]],\"sequential\":[[0.0,\"#0d0887\"],[0.1111111111111111,\"#46039f\"],[0.2222222222222222,\"#7201a8\"],[0.3333333333333333,\"#9c179e\"],[0.4444444444444444,\"#bd3786\"],[0.5555555555555556,\"#d8576b\"],[0.6666666666666666,\"#ed7953\"],[0.7777777777777778,\"#fb9f3a\"],[0.8888888888888888,\"#fdca26\"],[1.0,\"#f0f921\"]],\"sequentialminus\":[[0.0,\"#0d0887\"],[0.1111111111111111,\"#46039f\"],[0.2222222222222222,\"#7201a8\"],[0.3333333333333333,\"#9c179e\"],[0.4444444444444444,\"#bd3786\"],[0.5555555555555556,\"#d8576b\"],[0.6666666666666666,\"#ed7953\"],[0.7777777777777778,\"#fb9f3a\"],[0.8888888888888888,\"#fdca26\"],[1.0,\"#f0f921\"]]},\"colorway\":[\"#636efa\",\"#EF553B\",\"#00cc96\",\"#ab63fa\",\"#FFA15A\",\"#19d3f3\",\"#FF6692\",\"#B6E880\",\"#FF97FF\",\"#FECB52\"],\"font\":{\"color\":\"#2a3f5f\"},\"geo\":{\"bgcolor\":\"white\",\"lakecolor\":\"white\",\"landcolor\":\"#E5ECF6\",\"showlakes\":true,\"showland\":true,\"subunitcolor\":\"white\"},\"hoverlabel\":{\"align\":\"left\"},\"hovermode\":\"closest\",\"mapbox\":{\"style\":\"light\"},\"paper_bgcolor\":\"white\",\"plot_bgcolor\":\"#E5ECF6\",\"polar\":{\"angularaxis\":{\"gridcolor\":\"white\",\"linecolor\":\"white\",\"ticks\":\"\"},\"bgcolor\":\"#E5ECF6\",\"radialaxis\":{\"gridcolor\":\"white\",\"linecolor\":\"white\",\"ticks\":\"\"}},\"scene\":{\"xaxis\":{\"backgroundcolor\":\"#E5ECF6\",\"gridcolor\":\"white\",\"gridwidth\":2,\"linecolor\":\"white\",\"showbackground\":true,\"ticks\":\"\",\"zerolinecolor\":\"white\"},\"yaxis\":{\"backgroundcolor\":\"#E5ECF6\",\"gridcolor\":\"white\",\"gridwidth\":2,\"linecolor\":\"white\",\"showbackground\":true,\"ticks\":\"\",\"zerolinecolor\":\"white\"},\"zaxis\":{\"backgroundcolor\":\"#E5ECF6\",\"gridcolor\":\"white\",\"gridwidth\":2,\"linecolor\":\"white\",\"showbackground\":true,\"ticks\":\"\",\"zerolinecolor\":\"white\"}},\"shapedefaults\":{\"line\":{\"color\":\"#2a3f5f\"}},\"ternary\":{\"aaxis\":{\"gridcolor\":\"white\",\"linecolor\":\"white\",\"ticks\":\"\"},\"baxis\":{\"gridcolor\":\"white\",\"linecolor\":\"white\",\"ticks\":\"\"},\"bgcolor\":\"#E5ECF6\",\"caxis\":{\"gridcolor\":\"white\",\"linecolor\":\"white\",\"ticks\":\"\"}},\"title\":{\"x\":0.05},\"xaxis\":{\"automargin\":true,\"gridcolor\":\"white\",\"linecolor\":\"white\",\"ticks\":\"\",\"title\":{\"standoff\":15},\"zerolinecolor\":\"white\",\"zerolinewidth\":2},\"yaxis\":{\"automargin\":true,\"gridcolor\":\"white\",\"linecolor\":\"white\",\"ticks\":\"\",\"title\":{\"standoff\":15},\"zerolinecolor\":\"white\",\"zerolinewidth\":2}}},\"title\":{\"text\":\"Ratings\",\"x\":0.47},\"xaxis\":{\"tickfont\":{\"size\":15}},\"yaxis\":{\"title\":{\"text\":\"Count\",\"font\":{\"size\":16}},\"tickfont\":{\"size\":14}},\"legend\":{\"x\":1,\"y\":1.0,\"bgcolor\":\"rgba(255, 255, 255, 0)\",\"bordercolor\":\"rgba(255, 255, 255, 0)\"},\"barmode\":\"group\",\"bargap\":0.19,\"bargroupgap\":0.2},                        {\"responsive\": true}                    ).then(function(){\n",
              "                            \n",
              "var gd = document.getElementById('8b11b1b5-dbee-48f0-adc2-f6637c10a92c');\n",
              "var x = new MutationObserver(function (mutations, observer) {{\n",
              "        var display = window.getComputedStyle(gd).display;\n",
              "        if (!display || display === 'none') {{\n",
              "            console.log([gd, 'removed!']);\n",
              "            Plotly.purge(gd);\n",
              "            observer.disconnect();\n",
              "        }}\n",
              "}});\n",
              "\n",
              "// Listen for the removal of the full notebook cells\n",
              "var notebookContainer = gd.closest('#notebook-container');\n",
              "if (notebookContainer) {{\n",
              "    x.observe(notebookContainer, {childList: true});\n",
              "}}\n",
              "\n",
              "// Listen for the clearing of the current output cell\n",
              "var outputEl = gd.closest('.output');\n",
              "if (outputEl) {{\n",
              "    x.observe(outputEl, {childList: true});\n",
              "}}\n",
              "\n",
              "                        })                };                            </script>        </div>\n",
              "</body>\n",
              "</html>"
            ]
          },
          "metadata": {}
        }
      ]
    },
    {
      "cell_type": "markdown",
      "metadata": {
        "id": "PafMspiCYjx4"
      },
      "source": [
        "![image.png](data:image/png;base64,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)"
      ]
    },
    {
      "cell_type": "markdown",
      "metadata": {
        "id": "REn5zpBIY25N"
      },
      "source": [
        "We can observed from above table what rating is applicable for which age group,\n",
        "TV-MA that is Mature content is most feverate in netflix\n",
        "\n",
        "\n",
        "\n"
      ]
    }
  ]
}